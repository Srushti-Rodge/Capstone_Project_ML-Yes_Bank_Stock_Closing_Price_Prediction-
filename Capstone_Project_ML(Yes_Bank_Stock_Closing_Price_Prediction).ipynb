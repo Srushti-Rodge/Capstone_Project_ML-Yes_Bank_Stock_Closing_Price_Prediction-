{
  "nbformat": 4,
  "nbformat_minor": 0,
  "metadata": {
    "colab": {
      "provenance": [],
      "authorship_tag": "ABX9TyN+enz61gDa99fNcEFF8JA9",
      "include_colab_link": true
    },
    "kernelspec": {
      "name": "python3",
      "display_name": "Python 3"
    },
    "language_info": {
      "name": "python"
    }
  },
  "cells": [
    {
      "cell_type": "markdown",
      "metadata": {
        "id": "view-in-github",
        "colab_type": "text"
      },
      "source": [
        "<a href=\"https://colab.research.google.com/github/Srushtirodge/Capstone_Project_ML-Yes_Bank_Stock_Closing_Price_Prediction-/blob/main/Capstone_Project_ML(Yes_Bank_Stock_Closing_Price_Prediction).ipynb\" target=\"_parent\"><img src=\"https://colab.research.google.com/assets/colab-badge.svg\" alt=\"Open In Colab\"/></a>"
      ]
    },
    {
      "cell_type": "markdown",
      "source": [
        "# **Yes_Bank_Stock_Closing_Price_Prediction(Capstone_Project_Supervised_ML_Regression)**"
      ],
      "metadata": {
        "id": "g1VrFj9anxAE"
      }
    },
    {
      "cell_type": "markdown",
      "source": [
        "##### **Project Type**    - Regression\n",
        "##### **Contribution**    - Srushti Rodge"
      ],
      "metadata": {
        "id": "4omJo8tGn2Rj"
      }
    },
    {
      "cell_type": "markdown",
      "source": [
        "# **`Project Summary -`**"
      ],
      "metadata": {
        "id": "l11DyQ2noBc0"
      }
    },
    {
      "cell_type": "markdown",
      "source": [
        "\n",
        "Yes_Bank_Stock_Closing_Price_Prediction(Capstone_Project_Supervised_ML_Regression)\n",
        "Project Type - Regression\n",
        "Contribution - Team\n",
        "Team Member 1 - Vibuti Gupta\n",
        "Team Member 2 - Rudraashish Sengupta\n",
        "Project Summary -\n",
        "Yes_Bank_Logo-01.png\n",
        "\n",
        "This project aims to address the challenge of predicting the closing price of Yes Bank's stock, which is a crucial task for stakeholders, investors, and market participants. Yes Bank, as a prominent private sector bank in India, has encountered significant hurdles in recent years, including a substantial number of bad loans and involvement in fraud cases. These challenges have led to regulatory intervention by the Reserve Bank of India, making the prediction of Yes Bank's stock prices complex and uncertain.\n",
        "\n",
        "To tackle this challenge, the project utilizes a comprehensive dataset comprising monthly stock price data since the bank's inception. The dataset includes various important metrics such as the closing, starting, highest, and lowest prices for each month. The objective is to develop predictive models that can effectively capture the intricate dynamics and trends in Yes Bank's stock prices, taking into account the turbulent events and uncertainties associated with the bank's performance.\n",
        "\n",
        "The project involves applying various modeling techniques, including time series models regression methods. The goal is to evaluate the performance of these models in accurately forecasting the closing price of Yes Bank's stock. Additionally, the models will be assessed on their ability to incorporate the impact of significant events, such as fraud cases involving the bank's founders or regulatory interventions by the Reserve Bank of India.\n",
        "\n",
        "By successfully predicting the closing price of Yes Bank's stock, this project can provide valuable insights and assist stakeholders in making informed decisions related to their investments in the bank. It aims to navigate the complexities and uncertainties surrounding Yes Bank's stock prices, ultimately contributing to the understanding of its financial performance and aiding in effective decision-making."
      ],
      "metadata": {
        "id": "-4BTt45HoF8j"
      }
    },
    {
      "cell_type": "markdown",
      "source": [
        "# **`GitHub Link -`**"
      ],
      "metadata": {
        "id": "dWTCVegHoHai"
      }
    },
    {
      "cell_type": "markdown",
      "source": [
        "# **`Problem Statement`**"
      ],
      "metadata": {
        "id": "g0aVlOgvoNRz"
      }
    },
    {
      "cell_type": "markdown",
      "source": [
        "The main objective of this project is to develop a robust and accurate predictive model that can effectively forecast the closing price of Yes Bank's stock. The challenge lies in understanding and capturing the complex dynamics and trends in the stock prices, considering various factors such as the historical trend of an increasing price followed by a sudden decline after 2018.\n",
        "\n",
        "One of the key challenges in developing the predictive model is addressing the issue of multicollinearity present in the dataset. Multicollinearity occurs when there is a high correlation between independent variables, which can lead to difficulties in interpreting the model and can affect the accuracy of the predictions. Therefore, the model should incorporate techniques to handle multicollinearity and ensure that the independent variables are appropriately considered in the prediction process.\n",
        "\n",
        "Furthermore, the model should account for significant events that have had an impact on Yes Bank's stock performance. This includes events such as fraud cases involving the bank's founders and regulatory interventions by the Reserve Bank of India. These events can significantly influence the stock prices, and it is crucial for the predictive model to capture and reflect their effects accurately.\n",
        "\n",
        "In terms of performance, the model should aim for a high level of accuracy in forecasting the closing price of Yes Bank's stock. The 99% accuracy achieved by the K-Nearest Neighbors (KNN) Regression model serves as a benchmark, indicating the target accuracy that the developed model should strive to achieve. By achieving high accuracy, the predictive model can provide valuable insights to stakeholders, investors, and market participants, enabling them to make informed decisions and effectively manage their investments in Yes Bank's stock.\n",
        "\n",
        "Overall, this project seeks to develop a predictive model that addresses the complexities and challenges associated with forecasting Yes Bank's stock prices. The ultimate goal is to provide stakeholders with a reliable tool that can enhance their understanding of the stock's future performance and support them in making well-informed investment decisions."
      ],
      "metadata": {
        "id": "zfqnTH8PoSiy"
      }
    },
    {
      "cell_type": "markdown",
      "source": [
        "## ***`1. Know Your Data`***\n"
      ],
      "metadata": {
        "id": "FWmOu5sgoX67"
      }
    },
    {
      "cell_type": "markdown",
      "source": [
        "### `Import Libraries`"
      ],
      "metadata": {
        "id": "nhewA0jeoerk"
      }
    },
    {
      "cell_type": "code",
      "execution_count": 1,
      "metadata": {
        "id": "oDJUuj15noqf"
      },
      "outputs": [],
      "source": [
        "# Import necessary libraries\n",
        "\n",
        "# Import NumPy for numerical computations\n",
        "import numpy as np\n",
        "\n",
        "# Import Pandas for data manipulation and analysis\n",
        "import pandas as pd\n",
        "\n",
        "# Import Matplotlib for basic data visualization\n",
        "import matplotlib.pyplot as plt\n",
        "\n",
        "# Import Seaborn for advanced statistical visualizations\n",
        "import seaborn as sns\n",
        "\n",
        "# Import Plotly graph objects for interactive visualizations\n",
        "import plotly.graph_objects as go\n",
        "\n",
        "# Import the datetime module for working with dates and times\n",
        "from datetime import datetime\n",
        "\n",
        "# Import warnings module to ignore potential warnings\n",
        "import warnings"
      ]
    },
    {
      "cell_type": "markdown",
      "source": [
        "### `Dataset Loading`"
      ],
      "metadata": {
        "id": "H3RJvJJCpDPO"
      }
    },
    {
      "cell_type": "code",
      "source": [
        "# Load Dataset\n",
        "# This code imports the `drive` library from Google Colab.\n",
        "# The 'drive' library allows us to mount our Google Drive to our Colab notebook.\n",
        "# The 'mount()' function mounts our Google Drive to the '/content/drive' directory.\n",
        "from google.colab import drive\n",
        "drive.mount('/content/drive')\n"
      ],
      "metadata": {
        "colab": {
          "base_uri": "https://localhost:8080/"
        },
        "id": "gJouiOWcpGQ2",
        "outputId": "c86ae4e2-00cb-4742-f927-6c7529bf86ef"
      },
      "execution_count": 2,
      "outputs": [
        {
          "output_type": "stream",
          "name": "stdout",
          "text": [
            "Mounted at /content/drive\n"
          ]
        }
      ]
    },
    {
      "cell_type": "code",
      "source": [
        "# Load the stock price data from the CSV file\n",
        "# This code reads the CSV file 'data_YesBank_StockPrices.csv' from the '/content/drive/MyDrive/capstone project-Supervised ML-Regression/Data File' directory.\n",
        "# The 'pd.read_csv()' function reads the CSV file and returns a Pandas DataFrame.\n",
        "stock_df = pd.read_csv('/content/drive/MyDrive/project module 6/data_YesBank_StockPrices.csv')"
      ],
      "metadata": {
        "id": "wnpDUvkmpIlF"
      },
      "execution_count": 3,
      "outputs": []
    },
    {
      "cell_type": "markdown",
      "source": [
        "### `Dataset First View`"
      ],
      "metadata": {
        "id": "MEjDjmtRpWBl"
      }
    },
    {
      "cell_type": "code",
      "source": [
        "# Display the first few rows of the DataFrame with a cool color gradient\n",
        "# This code uses the 'head()' method to display the first few rows of the DataFrame.\n",
        "# The 'style.background_gradient()' method applies a color gradient to the background of the DataFrame.\n",
        "# The 'cmap='cool'' argument specifies the colormap to use.\n",
        "stock_df.head().style.background_gradient(cmap='cool')"
      ],
      "metadata": {
        "colab": {
          "base_uri": "https://localhost:8080/",
          "height": 206
        },
        "id": "g9XjaNMKpS5W",
        "outputId": "d38339b7-29fc-4343-fa0e-04ae80883d33"
      },
      "execution_count": 4,
      "outputs": [
        {
          "output_type": "execute_result",
          "data": {
            "text/plain": [
              "<pandas.io.formats.style.Styler at 0x7b41b9686980>"
            ],
            "text/html": [
              "<style type=\"text/css\">\n",
              "#T_e1aba_row0_col1 {\n",
              "  background-color: #7788ff;\n",
              "  color: #f1f1f1;\n",
              "}\n",
              "#T_e1aba_row0_col2 {\n",
              "  background-color: #1ee1ff;\n",
              "  color: #000000;\n",
              "}\n",
              "#T_e1aba_row0_col3, #T_e1aba_row0_col4, #T_e1aba_row1_col1, #T_e1aba_row4_col2 {\n",
              "  background-color: #00ffff;\n",
              "  color: #000000;\n",
              "}\n",
              "#T_e1aba_row1_col2, #T_e1aba_row1_col4, #T_e1aba_row2_col1, #T_e1aba_row4_col3 {\n",
              "  background-color: #ff00ff;\n",
              "  color: #f1f1f1;\n",
              "}\n",
              "#T_e1aba_row1_col3 {\n",
              "  background-color: #cc33ff;\n",
              "  color: #f1f1f1;\n",
              "}\n",
              "#T_e1aba_row2_col2, #T_e1aba_row4_col4 {\n",
              "  background-color: #fd02ff;\n",
              "  color: #f1f1f1;\n",
              "}\n",
              "#T_e1aba_row2_col3 {\n",
              "  background-color: #a05fff;\n",
              "  color: #f1f1f1;\n",
              "}\n",
              "#T_e1aba_row2_col4 {\n",
              "  background-color: #e01fff;\n",
              "  color: #f1f1f1;\n",
              "}\n",
              "#T_e1aba_row3_col1 {\n",
              "  background-color: #b04fff;\n",
              "  color: #f1f1f1;\n",
              "}\n",
              "#T_e1aba_row3_col2 {\n",
              "  background-color: #9768ff;\n",
              "  color: #f1f1f1;\n",
              "}\n",
              "#T_e1aba_row3_col3 {\n",
              "  background-color: #b44bff;\n",
              "  color: #f1f1f1;\n",
              "}\n",
              "#T_e1aba_row3_col4 {\n",
              "  background-color: #8d72ff;\n",
              "  color: #f1f1f1;\n",
              "}\n",
              "#T_e1aba_row4_col1 {\n",
              "  background-color: #db24ff;\n",
              "  color: #f1f1f1;\n",
              "}\n",
              "</style>\n",
              "<table id=\"T_e1aba\" class=\"dataframe\">\n",
              "  <thead>\n",
              "    <tr>\n",
              "      <th class=\"blank level0\" >&nbsp;</th>\n",
              "      <th id=\"T_e1aba_level0_col0\" class=\"col_heading level0 col0\" >Date</th>\n",
              "      <th id=\"T_e1aba_level0_col1\" class=\"col_heading level0 col1\" >Open</th>\n",
              "      <th id=\"T_e1aba_level0_col2\" class=\"col_heading level0 col2\" >High</th>\n",
              "      <th id=\"T_e1aba_level0_col3\" class=\"col_heading level0 col3\" >Low</th>\n",
              "      <th id=\"T_e1aba_level0_col4\" class=\"col_heading level0 col4\" >Close</th>\n",
              "    </tr>\n",
              "  </thead>\n",
              "  <tbody>\n",
              "    <tr>\n",
              "      <th id=\"T_e1aba_level0_row0\" class=\"row_heading level0 row0\" >0</th>\n",
              "      <td id=\"T_e1aba_row0_col0\" class=\"data row0 col0\" >Jul-05</td>\n",
              "      <td id=\"T_e1aba_row0_col1\" class=\"data row0 col1\" >13.000000</td>\n",
              "      <td id=\"T_e1aba_row0_col2\" class=\"data row0 col2\" >14.000000</td>\n",
              "      <td id=\"T_e1aba_row0_col3\" class=\"data row0 col3\" >11.250000</td>\n",
              "      <td id=\"T_e1aba_row0_col4\" class=\"data row0 col4\" >12.460000</td>\n",
              "    </tr>\n",
              "    <tr>\n",
              "      <th id=\"T_e1aba_level0_row1\" class=\"row_heading level0 row1\" >1</th>\n",
              "      <td id=\"T_e1aba_row1_col0\" class=\"data row1 col0\" >Aug-05</td>\n",
              "      <td id=\"T_e1aba_row1_col1\" class=\"data row1 col1\" >12.580000</td>\n",
              "      <td id=\"T_e1aba_row1_col2\" class=\"data row1 col2\" >14.880000</td>\n",
              "      <td id=\"T_e1aba_row1_col3\" class=\"data row1 col3\" >12.550000</td>\n",
              "      <td id=\"T_e1aba_row1_col4\" class=\"data row1 col4\" >13.420000</td>\n",
              "    </tr>\n",
              "    <tr>\n",
              "      <th id=\"T_e1aba_level0_row2\" class=\"row_heading level0 row2\" >2</th>\n",
              "      <td id=\"T_e1aba_row2_col0\" class=\"data row2 col0\" >Sep-05</td>\n",
              "      <td id=\"T_e1aba_row2_col1\" class=\"data row2 col1\" >13.480000</td>\n",
              "      <td id=\"T_e1aba_row2_col2\" class=\"data row2 col2\" >14.870000</td>\n",
              "      <td id=\"T_e1aba_row2_col3\" class=\"data row2 col3\" >12.270000</td>\n",
              "      <td id=\"T_e1aba_row2_col4\" class=\"data row2 col4\" >13.300000</td>\n",
              "    </tr>\n",
              "    <tr>\n",
              "      <th id=\"T_e1aba_level0_row3\" class=\"row_heading level0 row3\" >3</th>\n",
              "      <td id=\"T_e1aba_row3_col0\" class=\"data row3 col0\" >Oct-05</td>\n",
              "      <td id=\"T_e1aba_row3_col1\" class=\"data row3 col1\" >13.200000</td>\n",
              "      <td id=\"T_e1aba_row3_col2\" class=\"data row3 col2\" >14.470000</td>\n",
              "      <td id=\"T_e1aba_row3_col3\" class=\"data row3 col3\" >12.400000</td>\n",
              "      <td id=\"T_e1aba_row3_col4\" class=\"data row3 col4\" >12.990000</td>\n",
              "    </tr>\n",
              "    <tr>\n",
              "      <th id=\"T_e1aba_level0_row4\" class=\"row_heading level0 row4\" >4</th>\n",
              "      <td id=\"T_e1aba_row4_col0\" class=\"data row4 col0\" >Nov-05</td>\n",
              "      <td id=\"T_e1aba_row4_col1\" class=\"data row4 col1\" >13.350000</td>\n",
              "      <td id=\"T_e1aba_row4_col2\" class=\"data row4 col2\" >13.880000</td>\n",
              "      <td id=\"T_e1aba_row4_col3\" class=\"data row4 col3\" >12.880000</td>\n",
              "      <td id=\"T_e1aba_row4_col4\" class=\"data row4 col4\" >13.410000</td>\n",
              "    </tr>\n",
              "  </tbody>\n",
              "</table>\n"
            ]
          },
          "metadata": {},
          "execution_count": 4
        }
      ]
    },
    {
      "cell_type": "markdown",
      "source": [
        "### `Dataset Rows & Columns count`"
      ],
      "metadata": {
        "id": "VBXTHGFNpqEN"
      }
    },
    {
      "cell_type": "code",
      "source": [
        "print(\"The shape of the DataFrame is:\", stock_df.shape)"
      ],
      "metadata": {
        "colab": {
          "base_uri": "https://localhost:8080/"
        },
        "id": "OwpfGyLYplFe",
        "outputId": "13dca72f-9358-4468-d432-e85be9b0ba65"
      },
      "execution_count": 5,
      "outputs": [
        {
          "output_type": "stream",
          "name": "stdout",
          "text": [
            "The shape of the DataFrame is: (185, 5)\n"
          ]
        }
      ]
    },
    {
      "cell_type": "markdown",
      "source": [
        "### `Dataset Information`"
      ],
      "metadata": {
        "id": "gtqmgQRZpzkW"
      }
    },
    {
      "cell_type": "code",
      "source": [
        "print(\"The information about the DataFrame is:\", stock_df.info())"
      ],
      "metadata": {
        "colab": {
          "base_uri": "https://localhost:8080/"
        },
        "id": "-thJchYGpunn",
        "outputId": "4fcab437-3533-41f0-8281-78f31a7ed228"
      },
      "execution_count": 6,
      "outputs": [
        {
          "output_type": "stream",
          "name": "stdout",
          "text": [
            "<class 'pandas.core.frame.DataFrame'>\n",
            "RangeIndex: 185 entries, 0 to 184\n",
            "Data columns (total 5 columns):\n",
            " #   Column  Non-Null Count  Dtype  \n",
            "---  ------  --------------  -----  \n",
            " 0   Date    185 non-null    object \n",
            " 1   Open    185 non-null    float64\n",
            " 2   High    185 non-null    float64\n",
            " 3   Low     185 non-null    float64\n",
            " 4   Close   185 non-null    float64\n",
            "dtypes: float64(4), object(1)\n",
            "memory usage: 7.4+ KB\n",
            "The information about the DataFrame is: None\n"
          ]
        }
      ]
    },
    {
      "cell_type": "markdown",
      "source": [
        "From the above analysis, we can conclude that:\n",
        "\n",
        "\n",
        "\n",
        "\n",
        "*   The shape of our dataset is 185 rows and 5 columns. This means that the dataset has 185 data points, and each data point has 5 features. The data points represent the stock prices of YesBank for a period of time. The features represent the date, open price, high price, low price, close price, and volume of the stock.\n",
        "*   Datatype of Date is given as object which we need to change that to DateTime. The Date column contains the date of the stock price. The data type of this column is currently object, which means that the values in this column are strings. We need to change the data type of this column to DateTime so that we can perform date-related operations on it, such as calculating the day of the week, the month, or the year.\n",
        "*   Rest all features have float value as data point. The other 4 columns in the dataset contain floating-point numbers. These numbers represent the open price, high price, low price, and close price of the stock. The volume column contains the number of shares traded on a given day."
      ],
      "metadata": {
        "id": "Mt609qJAp5gW"
      }
    },
    {
      "cell_type": "markdown",
      "source": [
        "#### `Duplicate Values`"
      ],
      "metadata": {
        "id": "KKO-pyS5p96n"
      }
    },
    {
      "cell_type": "code",
      "source": [
        "number_of_duplicates = len(stock_df[stock_df.duplicated()])\n",
        "\n",
        "# Print the number of duplicate rows\n",
        "print(\"The number of duplicate rows is:\", number_of_duplicates)"
      ],
      "metadata": {
        "colab": {
          "base_uri": "https://localhost:8080/"
        },
        "id": "TLI3dMCIp2d2",
        "outputId": "ea649173-699d-48d6-856b-6d163c631245"
      },
      "execution_count": 8,
      "outputs": [
        {
          "output_type": "stream",
          "name": "stdout",
          "text": [
            "The number of duplicate rows is: 0\n"
          ]
        }
      ]
    },
    {
      "cell_type": "markdown",
      "source": [
        "#### `Missing Values/Null Values`"
      ],
      "metadata": {
        "id": "n1qMnYJcqHSH"
      }
    },
    {
      "cell_type": "code",
      "source": [
        "missing_values_count = stock_df.isnull().sum()\n",
        "\n",
        "# Print the number of missing values in each column\n",
        "print(\"The number of missing values in each column is:\",\"\\n\", missing_values_count)"
      ],
      "metadata": {
        "colab": {
          "base_uri": "https://localhost:8080/"
        },
        "id": "aCkY9PjjqBzf",
        "outputId": "958ef61d-d862-48bf-8001-734c11fd11e1"
      },
      "execution_count": 9,
      "outputs": [
        {
          "output_type": "stream",
          "name": "stdout",
          "text": [
            "The number of missing values in each column is: \n",
            " Date     0\n",
            "Open     0\n",
            "High     0\n",
            "Low      0\n",
            "Close    0\n",
            "dtype: int64\n"
          ]
        }
      ]
    },
    {
      "cell_type": "markdown",
      "source": [
        "## ***`2. Understanding Your Variables`***"
      ],
      "metadata": {
        "id": "loiu1xLRqOyP"
      }
    },
    {
      "cell_type": "code",
      "source": [
        "column_names = stock_df.columns\n",
        "\n",
        "# Print the column names\n",
        "print(\"The column names of the DataFrame are:\", column_names)"
      ],
      "metadata": {
        "colab": {
          "base_uri": "https://localhost:8080/"
        },
        "id": "87M0puliqLS2",
        "outputId": "23c6ea75-5d3d-41fd-8b31-9c0f3418d4e9"
      },
      "execution_count": 10,
      "outputs": [
        {
          "output_type": "stream",
          "name": "stdout",
          "text": [
            "The column names of the DataFrame are: Index(['Date', 'Open', 'High', 'Low', 'Close'], dtype='object')\n"
          ]
        }
      ]
    },
    {
      "cell_type": "code",
      "source": [
        "summary_statistics = stock_df.describe(include='all')\n",
        "\n",
        "# Print the summary statistics\n",
        "print(\"The summary statistics for all columns in the DataFrame are:\",\"\\n\",\"--------------------------------------------------------------\",\"\\n\",summary_statistics)"
      ],
      "metadata": {
        "colab": {
          "base_uri": "https://localhost:8080/"
        },
        "id": "rB_ZOdglqRTH",
        "outputId": "cafaa572-b9cd-4da5-830d-dc7456ad7d62"
      },
      "execution_count": 11,
      "outputs": [
        {
          "output_type": "stream",
          "name": "stdout",
          "text": [
            "The summary statistics for all columns in the DataFrame are: \n",
            " -------------------------------------------------------------- \n",
            "           Date        Open        High         Low       Close\n",
            "count      185  185.000000  185.000000  185.000000  185.000000\n",
            "unique     185         NaN         NaN         NaN         NaN\n",
            "top     Jul-05         NaN         NaN         NaN         NaN\n",
            "freq         1         NaN         NaN         NaN         NaN\n",
            "mean       NaN  105.541405  116.104324   94.947838  105.204703\n",
            "std        NaN   98.879850  106.333497   91.219415   98.583153\n",
            "min        NaN   10.000000   11.240000    5.550000    9.980000\n",
            "25%        NaN   33.800000   36.140000   28.510000   33.450000\n",
            "50%        NaN   62.980000   72.550000   58.000000   62.540000\n",
            "75%        NaN  153.000000  169.190000  138.350000  153.300000\n",
            "max        NaN  369.950000  404.000000  345.500000  367.900000\n"
          ]
        }
      ]
    },
    {
      "cell_type": "markdown",
      "source": [
        "### `Variables Description`"
      ],
      "metadata": {
        "id": "l6bRfXPQqZE_"
      }
    },
    {
      "cell_type": "markdown",
      "source": [
        "The dataset consists of monthly observations of Yes Bank stock prices since its listing on the stock exchange. The dataset includes the following features:\n",
        "\n",
        "Date: This indicates the specific month for which the stock price is recorded.\n",
        "Open: This represents the price of the stock at the beginning of the trading day when the stock exchange opens.\n",
        "High: This indicates the highest price reached by the stock during the given month.\n",
        "Low: This indicates the lowest price reached by the stock during the given month\n",
        "Close: This represents the price of the stock at the end of the trading day when the stock exchange closes.\n",
        "The dataset provides a comprehensive overview of the monthly performance of Yes Bank stock, including the opening, highest, lowest, and closing prices for each month since its listing on the stock exchange."
      ],
      "metadata": {
        "id": "zPtjiLwPqeoe"
      }
    },
    {
      "cell_type": "markdown",
      "source": [
        "##  ***`3. Data Wrangling`***"
      ],
      "metadata": {
        "id": "ZNXCQZJOqkrP"
      }
    },
    {
      "cell_type": "markdown",
      "source": [
        "Since the dataset does not contain any duplicate or null values, there is no need to perform any operations to treat them. The dataset is already clean in this regard. We can now proceed with the next step, which involves detecting and dealing with outliers.\n",
        "\n",
        "Outliers are data points that significantly deviate from the majority of the observations and may have a disproportionate impact on analysis results. Detecting outliers is important to ensure accurate and reliable analysis.\n",
        "\n",
        "To detect outliers in the dataset, various statistical techniques can be employed, such as the use of z-scores, interquartile range (IQR), or box plots. These methods help identify data points that fall outside a certain threshold or are significantly different from the rest of the data.\n",
        "\n",
        "Once outliers are identified, there are different approaches to deal with them. One common approach is to remove the outliers from the dataset, assuming they are erroneous or represent extreme values that may skew the analysis. Another approach is to replace the outliers with more representative values, such as the mean, median, or a value obtained through interpolation or extrapolation.\n",
        "\n",
        "In addition to outlier detection, it is necessary to change the data type of the datetime column from object to datetime format. This conversion allows for more effective handling and manipulation of dates and times. It enables various time-based operations, such as sorting, filtering, and extracting specific time intervals, which are crucial for analyzing and visualizing the stock price data over time."
      ],
      "metadata": {
        "id": "We7d5PHsqoII"
      }
    },
    {
      "cell_type": "code",
      "source": [
        "# Check Unique Values for each variable.\n",
        "\n",
        "for variable in stock_df.columns:\n",
        "  print(f\"The unique values for the '{variable}' variable are:\\n\\n {stock_df[variable].unique()}\\n\\n\")"
      ],
      "metadata": {
        "colab": {
          "base_uri": "https://localhost:8080/"
        },
        "id": "PH110EKqqrFS",
        "outputId": "27131ef7-ebfc-4003-a5a7-674fd962c9b1"
      },
      "execution_count": 13,
      "outputs": [
        {
          "output_type": "stream",
          "name": "stdout",
          "text": [
            "The unique values for the 'Date' variable are:\n",
            "\n",
            " ['Jul-05' 'Aug-05' 'Sep-05' 'Oct-05' 'Nov-05' 'Dec-05' 'Jan-06' 'Feb-06'\n",
            " 'Mar-06' 'Apr-06' 'May-06' 'Jun-06' 'Jul-06' 'Aug-06' 'Sep-06' 'Oct-06'\n",
            " 'Nov-06' 'Dec-06' 'Jan-07' 'Feb-07' 'Mar-07' 'Apr-07' 'May-07' 'Jun-07'\n",
            " 'Jul-07' 'Aug-07' 'Sep-07' 'Oct-07' 'Nov-07' 'Dec-07' 'Jan-08' 'Feb-08'\n",
            " 'Mar-08' 'Apr-08' 'May-08' 'Jun-08' 'Jul-08' 'Aug-08' 'Sep-08' 'Oct-08'\n",
            " 'Nov-08' 'Dec-08' 'Jan-09' 'Feb-09' 'Mar-09' 'Apr-09' 'May-09' 'Jun-09'\n",
            " 'Jul-09' 'Aug-09' 'Sep-09' 'Oct-09' 'Nov-09' 'Dec-09' 'Jan-10' 'Feb-10'\n",
            " 'Mar-10' 'Apr-10' 'May-10' 'Jun-10' 'Jul-10' 'Aug-10' 'Sep-10' 'Oct-10'\n",
            " 'Nov-10' 'Dec-10' 'Jan-11' 'Feb-11' 'Mar-11' 'Apr-11' 'May-11' 'Jun-11'\n",
            " 'Jul-11' 'Aug-11' 'Sep-11' 'Oct-11' 'Nov-11' 'Dec-11' 'Jan-12' 'Feb-12'\n",
            " 'Mar-12' 'Apr-12' 'May-12' 'Jun-12' 'Jul-12' 'Aug-12' 'Sep-12' 'Oct-12'\n",
            " 'Nov-12' 'Dec-12' 'Jan-13' 'Feb-13' 'Mar-13' 'Apr-13' 'May-13' 'Jun-13'\n",
            " 'Jul-13' 'Aug-13' 'Sep-13' 'Oct-13' 'Nov-13' 'Dec-13' 'Jan-14' 'Feb-14'\n",
            " 'Mar-14' 'Apr-14' 'May-14' 'Jun-14' 'Jul-14' 'Aug-14' 'Sep-14' 'Oct-14'\n",
            " 'Nov-14' 'Dec-14' 'Jan-15' 'Feb-15' 'Mar-15' 'Apr-15' 'May-15' 'Jun-15'\n",
            " 'Jul-15' 'Aug-15' 'Sep-15' 'Oct-15' 'Nov-15' 'Dec-15' 'Jan-16' 'Feb-16'\n",
            " 'Mar-16' 'Apr-16' 'May-16' 'Jun-16' 'Jul-16' 'Aug-16' 'Sep-16' 'Oct-16'\n",
            " 'Nov-16' 'Dec-16' 'Jan-17' 'Feb-17' 'Mar-17' 'Apr-17' 'May-17' 'Jun-17'\n",
            " 'Jul-17' 'Aug-17' 'Sep-17' 'Oct-17' 'Nov-17' 'Dec-17' 'Jan-18' 'Feb-18'\n",
            " 'Mar-18' 'Apr-18' 'May-18' 'Jun-18' 'Jul-18' 'Aug-18' 'Sep-18' 'Oct-18'\n",
            " 'Nov-18' 'Dec-18' 'Jan-19' 'Feb-19' 'Mar-19' 'Apr-19' 'May-19' 'Jun-19'\n",
            " 'Jul-19' 'Aug-19' 'Sep-19' 'Oct-19' 'Nov-19' 'Dec-19' 'Jan-20' 'Feb-20'\n",
            " 'Mar-20' 'Apr-20' 'May-20' 'Jun-20' 'Jul-20' 'Aug-20' 'Sep-20' 'Oct-20'\n",
            " 'Nov-20']\n",
            "\n",
            "\n",
            "The unique values for the 'Open' variable are:\n",
            "\n",
            " [ 13.    12.58  13.48  13.2   13.35  13.49  13.68  15.5   16.2   20.56\n",
            "  19.8   18.2   16.    15.9   18.    18.78  22.8   25.4   27.4   30.2\n",
            "  29.3   27.    30.66  33.89  35.98  37.5   37.4   41.8   44.4   46.4\n",
            "  49.99  50.88  48.9   33.9   34.3   31.22  22.85  25.    26.68  24.6\n",
            "  14.79  12.4   15.28  12.19  10.    10.04  15.94  25.6   29.7   31.98\n",
            "  33.8   41.2   46.58  50.98  53.6   49.    47.8   50.67  56.94  56.7\n",
            "  53.55  59.4   62.8   70.9   72.2   61.8   62.98  53.    51.84  62.\n",
            "  61.26  60.4   63.    62.9   56.    53.8   62.2   57.    47.92  65.9\n",
            "  69.    73.62  70.4   65.45  68.15  73.    66.2   76.4   82.54  89.2\n",
            "  93.2  104.41  94.    85.7  100.99  99.    92.4   66.    49.2   58.\n",
            "  74.    74.4   74.74  61.54  60.52  83.45  88.8  114.8  108.43 107.4\n",
            " 114.6  112.1  137.1  142.08 154.4  172.5  174.8  162.8  170.   177.\n",
            " 169.   165.9  135.61 146.96 151.73 153.   145.   150.4  138.8  172.02\n",
            " 189.8  206.4  221.96 244.   273.3  253.41 255.   235.4  231.98 280.4\n",
            " 290.6  309.6  326.   286.66 293.04 363.   351.   354.6  315.5  307.2\n",
            " 314.   355.   320.7  305.   362.85 348.   340.   369.95 347.2  180.\n",
            " 192.   174.   182.85 197.   234.6  277.   163.3  147.95 109.6   59.5\n",
            "  42.    71.    70.    46.9   39.1   35.2   22.3   27.8   27.75  12.\n",
            "  14.3   13.3   12.41]\n",
            "\n",
            "\n",
            "The unique values for the 'High' variable are:\n",
            "\n",
            " [ 14.    14.88  14.87  14.47  13.88  14.44  17.16  16.97  20.95  20.8\n",
            "  21.8   18.4   17.2   18.6   18.88  24.2   28.47  29.66  34.16  32.6\n",
            "  31.58  31.99  36.14  36.38  41.04  39.    41.75  47.3   50.98  54.\n",
            "  55.56  53.97  48.9   35.8   36.88  32.22  30.5   28.98  29.8   25.\n",
            "  17.8   16.56  18.34  12.5   11.24  17.51  28.84  31.08  33.16  35.18\n",
            "  41.3   52.34  54.98  55.67  57.58  51.48  52.06  59.48  58.08  59.9\n",
            "  60.94  68.88  71.74  76.    77.6   68.36  63.54  57.69  65.2   68.26\n",
            "  61.68  63.39  68.    63.96  60.08  64.8   63.7   59.8   66.5   74.8\n",
            "  77.88  76.1   70.59  70.6   73.19  74.78  77.69  84.2   89.6   95.\n",
            " 107.   107.8  100.15 101.8  109.43 102.94 100.4   67.81  78.94  76.44\n",
            "  77.27  83.    76.35  62.7   83.36  94.98 117.6  117.57 114.46 118.69\n",
            " 126.85 137.8  143.91 155.   179.   173.88 182.   172.8  176.96 179.4\n",
            " 175.58 169.19 155.5  155.94 157.96 154.52 149.9  157.85 175.12 190.44\n",
            " 209.   223.   247.18 275.   290.   265.5  262.72 245.   284.31 294.19\n",
            " 311.57 330.58 330.3  306.34 372.   368.52 383.25 375.75 329.8  319.\n",
            " 366.   366.5  325.8  368.75 364.4  350.1  393.35 404.   350.   268.45\n",
            " 231.4  194.3  236.3  236.9  281.3  285.9  178.05 153.8  110.6   92.4\n",
            "  72.55  76.65  75.35  70.5   48.5   40.7   87.95  30.45  31.6   31.95\n",
            "  28.3   15.34  14.01  14.9 ]\n",
            "\n",
            "\n",
            "The unique values for the 'Low' variable are:\n",
            "\n",
            " [ 11.25  12.55  12.27  12.4   12.88  13.    13.58  15.4   16.02  18.02\n",
            "  15.8   13.4   13.82  15.7   16.8   18.5   21.4   24.4   27.    26.8\n",
            "  23.31  26.2   29.11  30.4   35.02  30.2   35.3   33.6   40.02  45.\n",
            "  30.24  44.4   24.11  28.51  30.03  22.62  20.4   24.62  21.7   11.01\n",
            "  11.13  11.48   9.9    8.16   9.94  14.76  23.    24.83  29.    32.\n",
            "  36.8   42.84  48.6   46.42  44.6   47.3   48.8   50.66  52.6   53.02\n",
            "  59.01  62.51  68.21  58.    55.44  49.39  46.71  50.8   60.5   54.5\n",
            "  54.8   61.36  50.51  51.2   48.1   52.04  47.4   46.11  63.6   66.2\n",
            "  69.11  58.85  62.14  67.57  65.27  64.46  75.6   82.22  88.01  93.2\n",
            "  93.4   83.42  83.43  97.2   87.15  57.71  43.22  44.8   56.08  64.65\n",
            "  71.63  60.8   58.42  60.34  80.8   86.98 101.62 100.44 103.31 107.18\n",
            " 109.2  132.44 134.   150.47 156.1  156.8  154.53 157.8  158.9  156.45\n",
            " 118.   127.   141.73 144.03 133.71 126.45 132.74 138.35 165.33 181.28\n",
            " 201.14 221.35 240.68 231.2  245.8  219.1  218.25 226.3  275.61 283.6\n",
            " 300.2  275.15 280.21 290.78 337.37 345.5  299.   296.   300.65 307.35\n",
            " 304.65 285.1  303.3  325.7  327.35 332.45 338.   166.15 168.6  147.\n",
            " 160.2  181.15 167.65 228.8  165.3  133.05  98.75  81.75  53.15  40.95\n",
            "  29.05  59.95  40.7   36.55   5.55  20.3   25.2   25.55  11.1   11.85\n",
            "  12.75  12.11  12.21]\n",
            "\n",
            "\n",
            "The unique values for the 'Close' variable are:\n",
            "\n",
            " [ 12.46  13.42  13.3   12.99  13.41  13.71  15.33  16.12  20.08  19.49\n",
            "  18.03  15.62  16.16  17.84  18.46  22.78  25.32  26.97  30.16  28.63\n",
            "  28.14  30.31  33.51  35.98  37.93  36.99  41.36  43.48  46.18  49.81\n",
            "  50.54  49.42  33.75  34.06  31.13  22.85  25.45  26.83  24.13  13.58\n",
            "  12.26  15.03  12.24  10.26   9.98  15.45  25.12  29.68  31.93  33.45\n",
            "  40.99  47.31  50.57  53.41  49.84  47.32  50.97  57.1   57.57  53.83\n",
            "  58.99  62.22  70.3   71.86  61.21  62.54  52.59  51.29  61.98  61.02\n",
            "  60.07  62.38  62.13  55.61  54.5   62.9   54.49  47.72  65.99  69.14\n",
            "  73.46  70.07  66.02  67.83  72.85  65.97  76.44  82.29  88.48  92.84\n",
            " 104.41  94.5   85.71 100.28  97.49  92.2   64.76  48.65  57.5   73.76\n",
            "  73.74  74.02  61.59  60.95  82.7   88.14 113.89 108.38 108.21 114.33\n",
            " 111.7  136.83 142.08 154.57 172.5  172.55 163.31 167.96 176.52 168.6\n",
            " 165.74 137.9  145.92 151.82 153.3  145.23 149.38 137.67 172.91 188.73\n",
            " 206.39 221.3  243.44 272.56 250.85 253.52 234.28 231.26 279.1  290.56\n",
            " 309.82 326.14 286.38 292.37 361.96 351.15 350.   314.35 306.8  315.05\n",
            " 354.45 322.25 304.9  362.05 346.2  339.6  367.9  343.4  183.45 188.05\n",
            " 169.65 181.75 194.3  231.2  275.05 168.   147.95 108.7   91.3   59.5\n",
            "  41.45  70.45  68.3   46.95  39.2   34.55  22.45  27.95  26.85  25.6\n",
            "  11.95  14.37  13.15  12.42  14.67]\n",
            "\n",
            "\n"
          ]
        }
      ]
    },
    {
      "cell_type": "code",
      "source": [
        "# Saving a copy of the original dataframe\n",
        "og_df = stock_df.copy()"
      ],
      "metadata": {
        "id": "2Gp9LG5gqcNg"
      },
      "execution_count": 14,
      "outputs": []
    },
    {
      "cell_type": "markdown",
      "source": [
        "## **`Data Type Correction`**"
      ],
      "metadata": {
        "id": "MrysmGuXq3pJ"
      }
    },
    {
      "cell_type": "markdown",
      "source": [
        "Since the dataset does not contain any duplicate or null values, we do not need to perform any operations to treat them. We can proceed to outlier detection and dealing with them.\n",
        "\n",
        "However, the datatype of the Date column is currently object. We need to change it to datetime format. This is because the Date column represents a date and time, and the object datatype is not sufficient to represent this type of data.\n",
        "\n",
        "To change the datatype of the Date column, we can use the pd.to_datetime() function. For example, the following code would change the datatype of the Date column to datetime:"
      ],
      "metadata": {
        "id": "sEtH-Holq6go"
      }
    },
    {
      "cell_type": "code",
      "source": [
        "# Checking the exact datatype of the entries under the 'Date' column\n",
        "type(stock_df['Date'][0])"
      ],
      "metadata": {
        "colab": {
          "base_uri": "https://localhost:8080/"
        },
        "id": "h4_N-x8qqyoB",
        "outputId": "c3b6f9c1-b96d-40b7-b089-9303b1ccfd2d"
      },
      "execution_count": 15,
      "outputs": [
        {
          "output_type": "execute_result",
          "data": {
            "text/plain": [
              "str"
            ]
          },
          "metadata": {},
          "execution_count": 15
        }
      ]
    },
    {
      "cell_type": "code",
      "source": [
        "# Changing date colunn datatype to datetime format.\n",
        "from datetime import datetime"
      ],
      "metadata": {
        "id": "sVwvrs6Zq_Lw"
      },
      "execution_count": 23,
      "outputs": []
    },
    {
      "cell_type": "code",
      "source": [
        "# parsing date which is string of format %b-%y to datetime (%b for Month as locale’s abbreviated name and %y for Year without century as a zero-padded decimal number.\n",
        "stock_df['Date'] = stock_df['Date'].apply(lambda x: datetime.strftime(x, '%b-%y'))"
      ],
      "metadata": {
        "id": "IAKOfKjgrQfB"
      },
      "execution_count": 25,
      "outputs": []
    },
    {
      "cell_type": "code",
      "source": [
        "print(stock_df.info())"
      ],
      "metadata": {
        "colab": {
          "base_uri": "https://localhost:8080/"
        },
        "id": "tXJYy-N1sTKi",
        "outputId": "a7cd47b4-4aad-4bd0-b8c6-e2d3bb9e19e8"
      },
      "execution_count": 26,
      "outputs": [
        {
          "output_type": "stream",
          "name": "stdout",
          "text": [
            "<class 'pandas.core.frame.DataFrame'>\n",
            "RangeIndex: 185 entries, 0 to 184\n",
            "Data columns (total 5 columns):\n",
            " #   Column  Non-Null Count  Dtype  \n",
            "---  ------  --------------  -----  \n",
            " 0   Date    185 non-null    object \n",
            " 1   Open    185 non-null    float64\n",
            " 2   High    185 non-null    float64\n",
            " 3   Low     185 non-null    float64\n",
            " 4   Close   185 non-null    float64\n",
            "dtypes: float64(4), object(1)\n",
            "memory usage: 7.4+ KB\n",
            "None\n"
          ]
        }
      ]
    },
    {
      "cell_type": "code",
      "source": [
        "#Check the datatype of the columns after changing datatype of date\n",
        "stock_df.dtypes"
      ],
      "metadata": {
        "colab": {
          "base_uri": "https://localhost:8080/"
        },
        "id": "kYCe4u-gsWT0",
        "outputId": "2f392aca-91e2-4ae5-f905-0e01de71ac17"
      },
      "execution_count": 27,
      "outputs": [
        {
          "output_type": "execute_result",
          "data": {
            "text/plain": [
              "Date      object\n",
              "Open     float64\n",
              "High     float64\n",
              "Low      float64\n",
              "Close    float64\n",
              "dtype: object"
            ]
          },
          "metadata": {},
          "execution_count": 27
        }
      ]
    },
    {
      "cell_type": "code",
      "source": [
        "# Setting the 'Date' column as the index\n",
        "stock_df = stock_df.set_index('Date')"
      ],
      "metadata": {
        "id": "EEGMiS3msZGj"
      },
      "execution_count": 28,
      "outputs": []
    },
    {
      "cell_type": "code",
      "source": [
        "# Set the background color of the DataFrame to a gradient\n",
        "# using 'style.background_gradient()' method\n",
        "stock_df.head().style.background_gradient(cmap='cool')"
      ],
      "metadata": {
        "colab": {
          "base_uri": "https://localhost:8080/",
          "height": 237
        },
        "id": "oMApfQAlscK8",
        "outputId": "2e51bf58-7d95-4a57-ac55-588ff7c14f53"
      },
      "execution_count": 29,
      "outputs": [
        {
          "output_type": "execute_result",
          "data": {
            "text/plain": [
              "<pandas.io.formats.style.Styler at 0x7b4179b942b0>"
            ],
            "text/html": [
              "<style type=\"text/css\">\n",
              "#T_e58a9_row0_col0 {\n",
              "  background-color: #7788ff;\n",
              "  color: #f1f1f1;\n",
              "}\n",
              "#T_e58a9_row0_col1 {\n",
              "  background-color: #1ee1ff;\n",
              "  color: #000000;\n",
              "}\n",
              "#T_e58a9_row0_col2, #T_e58a9_row0_col3, #T_e58a9_row1_col0, #T_e58a9_row4_col1 {\n",
              "  background-color: #00ffff;\n",
              "  color: #000000;\n",
              "}\n",
              "#T_e58a9_row1_col1, #T_e58a9_row1_col3, #T_e58a9_row2_col0, #T_e58a9_row4_col2 {\n",
              "  background-color: #ff00ff;\n",
              "  color: #f1f1f1;\n",
              "}\n",
              "#T_e58a9_row1_col2 {\n",
              "  background-color: #cc33ff;\n",
              "  color: #f1f1f1;\n",
              "}\n",
              "#T_e58a9_row2_col1, #T_e58a9_row4_col3 {\n",
              "  background-color: #fd02ff;\n",
              "  color: #f1f1f1;\n",
              "}\n",
              "#T_e58a9_row2_col2 {\n",
              "  background-color: #a05fff;\n",
              "  color: #f1f1f1;\n",
              "}\n",
              "#T_e58a9_row2_col3 {\n",
              "  background-color: #e01fff;\n",
              "  color: #f1f1f1;\n",
              "}\n",
              "#T_e58a9_row3_col0 {\n",
              "  background-color: #b04fff;\n",
              "  color: #f1f1f1;\n",
              "}\n",
              "#T_e58a9_row3_col1 {\n",
              "  background-color: #9768ff;\n",
              "  color: #f1f1f1;\n",
              "}\n",
              "#T_e58a9_row3_col2 {\n",
              "  background-color: #b44bff;\n",
              "  color: #f1f1f1;\n",
              "}\n",
              "#T_e58a9_row3_col3 {\n",
              "  background-color: #8d72ff;\n",
              "  color: #f1f1f1;\n",
              "}\n",
              "#T_e58a9_row4_col0 {\n",
              "  background-color: #db24ff;\n",
              "  color: #f1f1f1;\n",
              "}\n",
              "</style>\n",
              "<table id=\"T_e58a9\" class=\"dataframe\">\n",
              "  <thead>\n",
              "    <tr>\n",
              "      <th class=\"blank level0\" >&nbsp;</th>\n",
              "      <th id=\"T_e58a9_level0_col0\" class=\"col_heading level0 col0\" >Open</th>\n",
              "      <th id=\"T_e58a9_level0_col1\" class=\"col_heading level0 col1\" >High</th>\n",
              "      <th id=\"T_e58a9_level0_col2\" class=\"col_heading level0 col2\" >Low</th>\n",
              "      <th id=\"T_e58a9_level0_col3\" class=\"col_heading level0 col3\" >Close</th>\n",
              "    </tr>\n",
              "    <tr>\n",
              "      <th class=\"index_name level0\" >Date</th>\n",
              "      <th class=\"blank col0\" >&nbsp;</th>\n",
              "      <th class=\"blank col1\" >&nbsp;</th>\n",
              "      <th class=\"blank col2\" >&nbsp;</th>\n",
              "      <th class=\"blank col3\" >&nbsp;</th>\n",
              "    </tr>\n",
              "  </thead>\n",
              "  <tbody>\n",
              "    <tr>\n",
              "      <th id=\"T_e58a9_level0_row0\" class=\"row_heading level0 row0\" >Jul-05</th>\n",
              "      <td id=\"T_e58a9_row0_col0\" class=\"data row0 col0\" >13.000000</td>\n",
              "      <td id=\"T_e58a9_row0_col1\" class=\"data row0 col1\" >14.000000</td>\n",
              "      <td id=\"T_e58a9_row0_col2\" class=\"data row0 col2\" >11.250000</td>\n",
              "      <td id=\"T_e58a9_row0_col3\" class=\"data row0 col3\" >12.460000</td>\n",
              "    </tr>\n",
              "    <tr>\n",
              "      <th id=\"T_e58a9_level0_row1\" class=\"row_heading level0 row1\" >Aug-05</th>\n",
              "      <td id=\"T_e58a9_row1_col0\" class=\"data row1 col0\" >12.580000</td>\n",
              "      <td id=\"T_e58a9_row1_col1\" class=\"data row1 col1\" >14.880000</td>\n",
              "      <td id=\"T_e58a9_row1_col2\" class=\"data row1 col2\" >12.550000</td>\n",
              "      <td id=\"T_e58a9_row1_col3\" class=\"data row1 col3\" >13.420000</td>\n",
              "    </tr>\n",
              "    <tr>\n",
              "      <th id=\"T_e58a9_level0_row2\" class=\"row_heading level0 row2\" >Sep-05</th>\n",
              "      <td id=\"T_e58a9_row2_col0\" class=\"data row2 col0\" >13.480000</td>\n",
              "      <td id=\"T_e58a9_row2_col1\" class=\"data row2 col1\" >14.870000</td>\n",
              "      <td id=\"T_e58a9_row2_col2\" class=\"data row2 col2\" >12.270000</td>\n",
              "      <td id=\"T_e58a9_row2_col3\" class=\"data row2 col3\" >13.300000</td>\n",
              "    </tr>\n",
              "    <tr>\n",
              "      <th id=\"T_e58a9_level0_row3\" class=\"row_heading level0 row3\" >Oct-05</th>\n",
              "      <td id=\"T_e58a9_row3_col0\" class=\"data row3 col0\" >13.200000</td>\n",
              "      <td id=\"T_e58a9_row3_col1\" class=\"data row3 col1\" >14.470000</td>\n",
              "      <td id=\"T_e58a9_row3_col2\" class=\"data row3 col2\" >12.400000</td>\n",
              "      <td id=\"T_e58a9_row3_col3\" class=\"data row3 col3\" >12.990000</td>\n",
              "    </tr>\n",
              "    <tr>\n",
              "      <th id=\"T_e58a9_level0_row4\" class=\"row_heading level0 row4\" >Nov-05</th>\n",
              "      <td id=\"T_e58a9_row4_col0\" class=\"data row4 col0\" >13.350000</td>\n",
              "      <td id=\"T_e58a9_row4_col1\" class=\"data row4 col1\" >13.880000</td>\n",
              "      <td id=\"T_e58a9_row4_col2\" class=\"data row4 col2\" >12.880000</td>\n",
              "      <td id=\"T_e58a9_row4_col3\" class=\"data row4 col3\" >13.410000</td>\n",
              "    </tr>\n",
              "  </tbody>\n",
              "</table>\n"
            ]
          },
          "metadata": {},
          "execution_count": 29
        }
      ]
    },
    {
      "cell_type": "code",
      "source": [
        "dependent_variable = ['Close']\n",
        "independent_variables = list(stock_df.columns[:-1])"
      ],
      "metadata": {
        "id": "gD84Cw4oshPk"
      },
      "execution_count": 30,
      "outputs": []
    },
    {
      "cell_type": "markdown",
      "source": [
        "Upon examining the provided dataframe, it becomes apparent that all the columns exclusively consist of numerical data. There is an absence of any categorical data in the dataset, which means that the information available for analysis primarily comprises quantitative values. This characteristic enables direct application of numerical calculations, statistical analyses, and modeling techniques to the dataset. The lack of categorical data simplifies data processing and ensures a streamlined approach when performing quantitative analyses.\n",
        "\n",
        "Furthermore, during the examination of the dataset, it is evident that outliers are present. These outliers are data points that significantly deviate from the majority of the data. Before proceeding with modeling or conducting further analysis, it is crucial to address these outliers. Dealing with outliers involves assessing their impact on the data and making decisions regarding appropriate actions, such as removing or transforming them. By addressing the outliers, we can enhance the robustness and reliability of our models and analyses."
      ],
      "metadata": {
        "id": "EuNnoz6NsS9b"
      }
    },
    {
      "cell_type": "markdown",
      "source": [
        "## ***`4. Data Vizualization, Storytelling & Experimenting with charts : Understand the relationships between variables`***"
      ],
      "metadata": {
        "id": "1rFYidkgsqA1"
      }
    },
    {
      "cell_type": "markdown",
      "source": [
        "### Chart - 1 Line plot showcasing variations in each feature over the years"
      ],
      "metadata": {
        "id": "Dgnho23IsxhD"
      }
    },
    {
      "cell_type": "code",
      "source": [
        "import plotly.express as px\n",
        "\n",
        "# Plotting line graph wrt Date and Low prices\n",
        "fig = px.line(og_df, x=\"Date\", y=\"Low\")\n",
        "\n",
        "# Add additional traces for Open, Close, and High prices\n",
        "fig.add_scatter(x=og_df['Date'], y=og_df['Open'], name=\"Open\",\n",
        "                line_color='lime', marker_color='hotpink', marker_size=10)\n",
        "fig.add_scatter(x=og_df['Date'], y=og_df['Close'], name=\"Close\",\n",
        "                line_color='cyan', marker_color='magenta', marker_size=10)\n",
        "fig.add_scatter(x=og_df['Date'], y=og_df['High'], name=\"High\",\n",
        "                line_color='gold', marker_color='deepskyblue', marker_size=10)\n",
        "fig.add_scatter(x=og_df['Date'], y=og_df['Low'], name=\"Low\",\n",
        "                line_color='orange', marker_color='chartreuse', marker_size=10)\n",
        "\n",
        "# Update the layout of the plot\n",
        "fig.update_layout(\n",
        "    title={'text': \"Yes Bank Prices with Respect to Year\", 'x': 0.5, 'y': 0.95, 'xanchor': 'center', 'yanchor': 'top', 'font': {'color': 'white'}},\n",
        "    xaxis_title=\"Year\",\n",
        "    yaxis_title=\"Price\",\n",
        "    width=1400,\n",
        "    height=800,\n",
        "    plot_bgcolor='rgb(36, 40, 47)',  # Set the dark blue background color of the plot\n",
        "    paper_bgcolor='rgb(51, 56, 66)',  # Set the dark blue background color of the paper area\n",
        "    font_color='white',  # Set the font color to white\n",
        "    legend=dict(x=0.02, y=0.98, bgcolor='rgba(255, 255, 255, 0.7)', bordercolor='gray', borderwidth=1, font={'color': 'white'}),\n",
        "    margin=dict(l=50, r=50, t=100, b=50),\n",
        "    xaxis=dict(tickangle=90)  # Rotate x-axis labels by 90 degrees\n",
        ")\n",
        "# Show the plot\n",
        "fig.show()"
      ],
      "metadata": {
        "colab": {
          "base_uri": "https://localhost:8080/",
          "height": 837
        },
        "id": "trxFgJaeszS0",
        "outputId": "1bf9c979-5cd3-4758-fa32-2dade255295f"
      },
      "execution_count": 31,
      "outputs": [
        {
          "output_type": "display_data",
          "data": {
            "text/html": [
              "<html>\n",
              "<head><meta charset=\"utf-8\" /></head>\n",
              "<body>\n",
              "    <div>            <script src=\"https://cdnjs.cloudflare.com/ajax/libs/mathjax/2.7.5/MathJax.js?config=TeX-AMS-MML_SVG\"></script><script type=\"text/javascript\">if (window.MathJax && window.MathJax.Hub && window.MathJax.Hub.Config) {window.MathJax.Hub.Config({SVG: {font: \"STIX-Web\"}});}</script>                <script type=\"text/javascript\">window.PlotlyConfig = {MathJaxConfig: 'local'};</script>\n",
              "        <script charset=\"utf-8\" src=\"https://cdn.plot.ly/plotly-2.24.1.min.js\"></script>                <div id=\"db0c5856-0613-47d4-a298-e95aefcae42e\" class=\"plotly-graph-div\" style=\"height:800px; width:1400px;\"></div>            <script type=\"text/javascript\">                                    window.PLOTLYENV=window.PLOTLYENV || {};                                    if (document.getElementById(\"db0c5856-0613-47d4-a298-e95aefcae42e\")) {                    Plotly.newPlot(                        \"db0c5856-0613-47d4-a298-e95aefcae42e\",                        [{\"hovertemplate\":\"Date=%{x}\\u003cbr\\u003eLow=%{y}\\u003cextra\\u003e\\u003c\\u002fextra\\u003e\",\"legendgroup\":\"\",\"line\":{\"color\":\"#636efa\",\"dash\":\"solid\"},\"marker\":{\"symbol\":\"circle\"},\"mode\":\"lines\",\"name\":\"\",\"orientation\":\"v\",\"showlegend\":false,\"x\":[\"Jul-05\",\"Aug-05\",\"Sep-05\",\"Oct-05\",\"Nov-05\",\"Dec-05\",\"Jan-06\",\"Feb-06\",\"Mar-06\",\"Apr-06\",\"May-06\",\"Jun-06\",\"Jul-06\",\"Aug-06\",\"Sep-06\",\"Oct-06\",\"Nov-06\",\"Dec-06\",\"Jan-07\",\"Feb-07\",\"Mar-07\",\"Apr-07\",\"May-07\",\"Jun-07\",\"Jul-07\",\"Aug-07\",\"Sep-07\",\"Oct-07\",\"Nov-07\",\"Dec-07\",\"Jan-08\",\"Feb-08\",\"Mar-08\",\"Apr-08\",\"May-08\",\"Jun-08\",\"Jul-08\",\"Aug-08\",\"Sep-08\",\"Oct-08\",\"Nov-08\",\"Dec-08\",\"Jan-09\",\"Feb-09\",\"Mar-09\",\"Apr-09\",\"May-09\",\"Jun-09\",\"Jul-09\",\"Aug-09\",\"Sep-09\",\"Oct-09\",\"Nov-09\",\"Dec-09\",\"Jan-10\",\"Feb-10\",\"Mar-10\",\"Apr-10\",\"May-10\",\"Jun-10\",\"Jul-10\",\"Aug-10\",\"Sep-10\",\"Oct-10\",\"Nov-10\",\"Dec-10\",\"Jan-11\",\"Feb-11\",\"Mar-11\",\"Apr-11\",\"May-11\",\"Jun-11\",\"Jul-11\",\"Aug-11\",\"Sep-11\",\"Oct-11\",\"Nov-11\",\"Dec-11\",\"Jan-12\",\"Feb-12\",\"Mar-12\",\"Apr-12\",\"May-12\",\"Jun-12\",\"Jul-12\",\"Aug-12\",\"Sep-12\",\"Oct-12\",\"Nov-12\",\"Dec-12\",\"Jan-13\",\"Feb-13\",\"Mar-13\",\"Apr-13\",\"May-13\",\"Jun-13\",\"Jul-13\",\"Aug-13\",\"Sep-13\",\"Oct-13\",\"Nov-13\",\"Dec-13\",\"Jan-14\",\"Feb-14\",\"Mar-14\",\"Apr-14\",\"May-14\",\"Jun-14\",\"Jul-14\",\"Aug-14\",\"Sep-14\",\"Oct-14\",\"Nov-14\",\"Dec-14\",\"Jan-15\",\"Feb-15\",\"Mar-15\",\"Apr-15\",\"May-15\",\"Jun-15\",\"Jul-15\",\"Aug-15\",\"Sep-15\",\"Oct-15\",\"Nov-15\",\"Dec-15\",\"Jan-16\",\"Feb-16\",\"Mar-16\",\"Apr-16\",\"May-16\",\"Jun-16\",\"Jul-16\",\"Aug-16\",\"Sep-16\",\"Oct-16\",\"Nov-16\",\"Dec-16\",\"Jan-17\",\"Feb-17\",\"Mar-17\",\"Apr-17\",\"May-17\",\"Jun-17\",\"Jul-17\",\"Aug-17\",\"Sep-17\",\"Oct-17\",\"Nov-17\",\"Dec-17\",\"Jan-18\",\"Feb-18\",\"Mar-18\",\"Apr-18\",\"May-18\",\"Jun-18\",\"Jul-18\",\"Aug-18\",\"Sep-18\",\"Oct-18\",\"Nov-18\",\"Dec-18\",\"Jan-19\",\"Feb-19\",\"Mar-19\",\"Apr-19\",\"May-19\",\"Jun-19\",\"Jul-19\",\"Aug-19\",\"Sep-19\",\"Oct-19\",\"Nov-19\",\"Dec-19\",\"Jan-20\",\"Feb-20\",\"Mar-20\",\"Apr-20\",\"May-20\",\"Jun-20\",\"Jul-20\",\"Aug-20\",\"Sep-20\",\"Oct-20\",\"Nov-20\"],\"xaxis\":\"x\",\"y\":[11.25,12.55,12.27,12.4,12.88,13.0,13.58,15.4,16.02,18.02,15.8,13.4,13.82,15.7,16.8,18.5,21.4,24.4,27.0,26.8,23.31,26.2,29.11,30.4,35.02,30.2,35.3,33.6,40.02,45.0,30.24,44.4,24.11,28.51,30.03,22.62,20.4,24.62,21.7,11.01,11.25,11.13,11.48,9.9,8.16,9.94,14.76,23.0,24.83,29.0,32.0,36.8,42.84,48.6,46.42,44.6,47.3,48.8,50.66,52.6,53.02,59.01,62.51,68.21,58.0,55.44,49.39,46.71,50.8,60.5,54.5,54.8,61.36,50.51,51.2,48.1,52.04,47.4,46.11,63.6,66.2,69.11,58.85,62.14,67.57,65.27,64.46,75.6,82.22,88.01,93.2,93.4,83.42,83.43,97.2,87.15,57.71,43.22,44.8,56.08,64.65,71.63,60.8,58.42,60.34,80.8,86.98,101.62,100.44,103.31,107.18,109.2,132.44,134.0,150.47,156.1,156.8,154.53,157.8,158.9,156.45,118.0,127.0,141.73,144.03,133.71,126.45,132.74,138.35,165.33,181.28,201.14,221.35,240.68,231.2,245.8,219.1,218.25,226.3,275.61,283.6,300.2,275.15,280.21,290.78,337.37,345.5,299.0,296.0,300.65,307.35,304.65,285.1,303.3,325.7,327.35,332.45,338.0,166.15,168.6,147.0,160.2,181.15,167.65,228.8,165.3,133.05,98.75,81.75,53.15,40.95,29.05,59.95,40.7,36.55,33.6,5.55,20.3,25.2,25.55,11.1,11.85,12.75,12.11,12.21],\"yaxis\":\"y\",\"type\":\"scatter\"},{\"line\":{\"color\":\"lime\"},\"marker\":{\"color\":\"hotpink\",\"size\":10},\"name\":\"Open\",\"x\":[\"Jul-05\",\"Aug-05\",\"Sep-05\",\"Oct-05\",\"Nov-05\",\"Dec-05\",\"Jan-06\",\"Feb-06\",\"Mar-06\",\"Apr-06\",\"May-06\",\"Jun-06\",\"Jul-06\",\"Aug-06\",\"Sep-06\",\"Oct-06\",\"Nov-06\",\"Dec-06\",\"Jan-07\",\"Feb-07\",\"Mar-07\",\"Apr-07\",\"May-07\",\"Jun-07\",\"Jul-07\",\"Aug-07\",\"Sep-07\",\"Oct-07\",\"Nov-07\",\"Dec-07\",\"Jan-08\",\"Feb-08\",\"Mar-08\",\"Apr-08\",\"May-08\",\"Jun-08\",\"Jul-08\",\"Aug-08\",\"Sep-08\",\"Oct-08\",\"Nov-08\",\"Dec-08\",\"Jan-09\",\"Feb-09\",\"Mar-09\",\"Apr-09\",\"May-09\",\"Jun-09\",\"Jul-09\",\"Aug-09\",\"Sep-09\",\"Oct-09\",\"Nov-09\",\"Dec-09\",\"Jan-10\",\"Feb-10\",\"Mar-10\",\"Apr-10\",\"May-10\",\"Jun-10\",\"Jul-10\",\"Aug-10\",\"Sep-10\",\"Oct-10\",\"Nov-10\",\"Dec-10\",\"Jan-11\",\"Feb-11\",\"Mar-11\",\"Apr-11\",\"May-11\",\"Jun-11\",\"Jul-11\",\"Aug-11\",\"Sep-11\",\"Oct-11\",\"Nov-11\",\"Dec-11\",\"Jan-12\",\"Feb-12\",\"Mar-12\",\"Apr-12\",\"May-12\",\"Jun-12\",\"Jul-12\",\"Aug-12\",\"Sep-12\",\"Oct-12\",\"Nov-12\",\"Dec-12\",\"Jan-13\",\"Feb-13\",\"Mar-13\",\"Apr-13\",\"May-13\",\"Jun-13\",\"Jul-13\",\"Aug-13\",\"Sep-13\",\"Oct-13\",\"Nov-13\",\"Dec-13\",\"Jan-14\",\"Feb-14\",\"Mar-14\",\"Apr-14\",\"May-14\",\"Jun-14\",\"Jul-14\",\"Aug-14\",\"Sep-14\",\"Oct-14\",\"Nov-14\",\"Dec-14\",\"Jan-15\",\"Feb-15\",\"Mar-15\",\"Apr-15\",\"May-15\",\"Jun-15\",\"Jul-15\",\"Aug-15\",\"Sep-15\",\"Oct-15\",\"Nov-15\",\"Dec-15\",\"Jan-16\",\"Feb-16\",\"Mar-16\",\"Apr-16\",\"May-16\",\"Jun-16\",\"Jul-16\",\"Aug-16\",\"Sep-16\",\"Oct-16\",\"Nov-16\",\"Dec-16\",\"Jan-17\",\"Feb-17\",\"Mar-17\",\"Apr-17\",\"May-17\",\"Jun-17\",\"Jul-17\",\"Aug-17\",\"Sep-17\",\"Oct-17\",\"Nov-17\",\"Dec-17\",\"Jan-18\",\"Feb-18\",\"Mar-18\",\"Apr-18\",\"May-18\",\"Jun-18\",\"Jul-18\",\"Aug-18\",\"Sep-18\",\"Oct-18\",\"Nov-18\",\"Dec-18\",\"Jan-19\",\"Feb-19\",\"Mar-19\",\"Apr-19\",\"May-19\",\"Jun-19\",\"Jul-19\",\"Aug-19\",\"Sep-19\",\"Oct-19\",\"Nov-19\",\"Dec-19\",\"Jan-20\",\"Feb-20\",\"Mar-20\",\"Apr-20\",\"May-20\",\"Jun-20\",\"Jul-20\",\"Aug-20\",\"Sep-20\",\"Oct-20\",\"Nov-20\"],\"y\":[13.0,12.58,13.48,13.2,13.35,13.49,13.68,15.5,16.2,20.56,19.8,18.2,16.0,15.9,18.0,18.78,22.8,25.4,27.4,30.2,29.3,27.0,30.66,33.89,35.98,37.5,37.4,41.8,44.4,46.4,49.99,50.88,48.9,33.9,34.3,31.22,22.85,25.0,26.68,24.6,14.79,12.4,15.28,12.19,10.0,10.04,15.94,25.6,29.7,31.98,33.8,41.2,46.58,50.98,53.6,49.0,47.8,50.67,56.94,56.7,53.55,59.4,62.8,70.9,72.2,61.8,62.98,53.0,51.84,62.0,61.26,60.4,63.0,62.9,56.0,53.8,62.2,57.0,47.92,65.9,69.0,73.62,70.4,65.45,68.15,73.0,66.2,76.4,82.54,89.2,93.2,104.41,94.0,85.7,100.99,99.0,92.4,66.0,49.2,58.0,74.0,74.4,74.74,61.54,60.52,83.45,88.8,114.8,108.43,107.4,114.6,112.1,137.1,142.08,154.4,172.5,174.8,162.8,170.0,177.0,169.0,165.9,135.61,146.96,151.73,153.0,145.0,150.4,138.8,172.02,189.8,206.4,221.96,244.0,273.3,253.41,255.0,235.4,231.98,280.4,290.6,309.6,326.0,286.66,293.04,363.0,351.0,354.6,315.5,307.2,314.0,355.0,320.7,305.0,362.85,348.0,340.0,369.95,347.2,180.0,192.0,174.0,182.85,197.0,234.6,277.0,163.3,147.95,109.6,89.2,59.5,42.0,71.0,70.0,46.9,39.1,35.2,22.3,27.8,27.75,25.6,12.0,14.3,13.3,12.41],\"type\":\"scatter\"},{\"line\":{\"color\":\"cyan\"},\"marker\":{\"color\":\"magenta\",\"size\":10},\"name\":\"Close\",\"x\":[\"Jul-05\",\"Aug-05\",\"Sep-05\",\"Oct-05\",\"Nov-05\",\"Dec-05\",\"Jan-06\",\"Feb-06\",\"Mar-06\",\"Apr-06\",\"May-06\",\"Jun-06\",\"Jul-06\",\"Aug-06\",\"Sep-06\",\"Oct-06\",\"Nov-06\",\"Dec-06\",\"Jan-07\",\"Feb-07\",\"Mar-07\",\"Apr-07\",\"May-07\",\"Jun-07\",\"Jul-07\",\"Aug-07\",\"Sep-07\",\"Oct-07\",\"Nov-07\",\"Dec-07\",\"Jan-08\",\"Feb-08\",\"Mar-08\",\"Apr-08\",\"May-08\",\"Jun-08\",\"Jul-08\",\"Aug-08\",\"Sep-08\",\"Oct-08\",\"Nov-08\",\"Dec-08\",\"Jan-09\",\"Feb-09\",\"Mar-09\",\"Apr-09\",\"May-09\",\"Jun-09\",\"Jul-09\",\"Aug-09\",\"Sep-09\",\"Oct-09\",\"Nov-09\",\"Dec-09\",\"Jan-10\",\"Feb-10\",\"Mar-10\",\"Apr-10\",\"May-10\",\"Jun-10\",\"Jul-10\",\"Aug-10\",\"Sep-10\",\"Oct-10\",\"Nov-10\",\"Dec-10\",\"Jan-11\",\"Feb-11\",\"Mar-11\",\"Apr-11\",\"May-11\",\"Jun-11\",\"Jul-11\",\"Aug-11\",\"Sep-11\",\"Oct-11\",\"Nov-11\",\"Dec-11\",\"Jan-12\",\"Feb-12\",\"Mar-12\",\"Apr-12\",\"May-12\",\"Jun-12\",\"Jul-12\",\"Aug-12\",\"Sep-12\",\"Oct-12\",\"Nov-12\",\"Dec-12\",\"Jan-13\",\"Feb-13\",\"Mar-13\",\"Apr-13\",\"May-13\",\"Jun-13\",\"Jul-13\",\"Aug-13\",\"Sep-13\",\"Oct-13\",\"Nov-13\",\"Dec-13\",\"Jan-14\",\"Feb-14\",\"Mar-14\",\"Apr-14\",\"May-14\",\"Jun-14\",\"Jul-14\",\"Aug-14\",\"Sep-14\",\"Oct-14\",\"Nov-14\",\"Dec-14\",\"Jan-15\",\"Feb-15\",\"Mar-15\",\"Apr-15\",\"May-15\",\"Jun-15\",\"Jul-15\",\"Aug-15\",\"Sep-15\",\"Oct-15\",\"Nov-15\",\"Dec-15\",\"Jan-16\",\"Feb-16\",\"Mar-16\",\"Apr-16\",\"May-16\",\"Jun-16\",\"Jul-16\",\"Aug-16\",\"Sep-16\",\"Oct-16\",\"Nov-16\",\"Dec-16\",\"Jan-17\",\"Feb-17\",\"Mar-17\",\"Apr-17\",\"May-17\",\"Jun-17\",\"Jul-17\",\"Aug-17\",\"Sep-17\",\"Oct-17\",\"Nov-17\",\"Dec-17\",\"Jan-18\",\"Feb-18\",\"Mar-18\",\"Apr-18\",\"May-18\",\"Jun-18\",\"Jul-18\",\"Aug-18\",\"Sep-18\",\"Oct-18\",\"Nov-18\",\"Dec-18\",\"Jan-19\",\"Feb-19\",\"Mar-19\",\"Apr-19\",\"May-19\",\"Jun-19\",\"Jul-19\",\"Aug-19\",\"Sep-19\",\"Oct-19\",\"Nov-19\",\"Dec-19\",\"Jan-20\",\"Feb-20\",\"Mar-20\",\"Apr-20\",\"May-20\",\"Jun-20\",\"Jul-20\",\"Aug-20\",\"Sep-20\",\"Oct-20\",\"Nov-20\"],\"y\":[12.46,13.42,13.3,12.99,13.41,13.71,15.33,16.12,20.08,19.49,18.03,15.62,16.16,17.84,18.46,22.78,25.32,26.97,30.16,28.63,28.14,30.31,33.51,35.98,37.93,36.99,41.36,43.48,46.18,49.81,50.54,49.42,33.75,34.06,31.13,22.85,25.45,26.83,24.13,13.58,12.26,15.03,12.24,10.26,9.98,15.45,25.12,29.68,31.93,33.45,40.99,47.31,50.57,53.41,49.84,47.32,50.97,57.1,57.57,53.83,58.99,62.22,70.3,71.86,61.21,62.54,52.59,51.29,61.98,61.02,60.07,62.38,62.13,55.61,54.5,62.9,54.49,47.72,65.99,69.14,73.46,70.07,66.02,67.83,72.85,65.97,76.44,82.29,88.48,92.84,104.41,94.5,85.71,100.28,97.49,92.2,64.76,48.65,57.5,73.76,73.74,74.02,61.59,60.95,82.7,88.14,113.89,108.38,108.21,114.33,111.7,136.83,142.08,154.57,172.5,172.55,163.31,167.96,176.52,168.6,165.74,137.9,145.92,151.82,153.3,145.23,149.38,137.67,172.91,188.73,206.39,221.3,243.44,272.56,250.85,253.52,234.28,231.26,279.1,290.56,309.82,326.14,286.38,292.37,361.96,351.15,350.0,314.35,306.8,315.05,354.45,322.25,304.9,362.05,346.2,339.6,367.9,343.4,183.45,188.05,169.65,181.75,194.3,231.2,275.05,168.0,147.95,108.7,91.3,59.5,41.45,70.45,68.3,46.95,39.2,34.55,22.45,27.95,26.85,25.6,11.95,14.37,13.15,12.42,14.67],\"type\":\"scatter\"},{\"line\":{\"color\":\"gold\"},\"marker\":{\"color\":\"deepskyblue\",\"size\":10},\"name\":\"High\",\"x\":[\"Jul-05\",\"Aug-05\",\"Sep-05\",\"Oct-05\",\"Nov-05\",\"Dec-05\",\"Jan-06\",\"Feb-06\",\"Mar-06\",\"Apr-06\",\"May-06\",\"Jun-06\",\"Jul-06\",\"Aug-06\",\"Sep-06\",\"Oct-06\",\"Nov-06\",\"Dec-06\",\"Jan-07\",\"Feb-07\",\"Mar-07\",\"Apr-07\",\"May-07\",\"Jun-07\",\"Jul-07\",\"Aug-07\",\"Sep-07\",\"Oct-07\",\"Nov-07\",\"Dec-07\",\"Jan-08\",\"Feb-08\",\"Mar-08\",\"Apr-08\",\"May-08\",\"Jun-08\",\"Jul-08\",\"Aug-08\",\"Sep-08\",\"Oct-08\",\"Nov-08\",\"Dec-08\",\"Jan-09\",\"Feb-09\",\"Mar-09\",\"Apr-09\",\"May-09\",\"Jun-09\",\"Jul-09\",\"Aug-09\",\"Sep-09\",\"Oct-09\",\"Nov-09\",\"Dec-09\",\"Jan-10\",\"Feb-10\",\"Mar-10\",\"Apr-10\",\"May-10\",\"Jun-10\",\"Jul-10\",\"Aug-10\",\"Sep-10\",\"Oct-10\",\"Nov-10\",\"Dec-10\",\"Jan-11\",\"Feb-11\",\"Mar-11\",\"Apr-11\",\"May-11\",\"Jun-11\",\"Jul-11\",\"Aug-11\",\"Sep-11\",\"Oct-11\",\"Nov-11\",\"Dec-11\",\"Jan-12\",\"Feb-12\",\"Mar-12\",\"Apr-12\",\"May-12\",\"Jun-12\",\"Jul-12\",\"Aug-12\",\"Sep-12\",\"Oct-12\",\"Nov-12\",\"Dec-12\",\"Jan-13\",\"Feb-13\",\"Mar-13\",\"Apr-13\",\"May-13\",\"Jun-13\",\"Jul-13\",\"Aug-13\",\"Sep-13\",\"Oct-13\",\"Nov-13\",\"Dec-13\",\"Jan-14\",\"Feb-14\",\"Mar-14\",\"Apr-14\",\"May-14\",\"Jun-14\",\"Jul-14\",\"Aug-14\",\"Sep-14\",\"Oct-14\",\"Nov-14\",\"Dec-14\",\"Jan-15\",\"Feb-15\",\"Mar-15\",\"Apr-15\",\"May-15\",\"Jun-15\",\"Jul-15\",\"Aug-15\",\"Sep-15\",\"Oct-15\",\"Nov-15\",\"Dec-15\",\"Jan-16\",\"Feb-16\",\"Mar-16\",\"Apr-16\",\"May-16\",\"Jun-16\",\"Jul-16\",\"Aug-16\",\"Sep-16\",\"Oct-16\",\"Nov-16\",\"Dec-16\",\"Jan-17\",\"Feb-17\",\"Mar-17\",\"Apr-17\",\"May-17\",\"Jun-17\",\"Jul-17\",\"Aug-17\",\"Sep-17\",\"Oct-17\",\"Nov-17\",\"Dec-17\",\"Jan-18\",\"Feb-18\",\"Mar-18\",\"Apr-18\",\"May-18\",\"Jun-18\",\"Jul-18\",\"Aug-18\",\"Sep-18\",\"Oct-18\",\"Nov-18\",\"Dec-18\",\"Jan-19\",\"Feb-19\",\"Mar-19\",\"Apr-19\",\"May-19\",\"Jun-19\",\"Jul-19\",\"Aug-19\",\"Sep-19\",\"Oct-19\",\"Nov-19\",\"Dec-19\",\"Jan-20\",\"Feb-20\",\"Mar-20\",\"Apr-20\",\"May-20\",\"Jun-20\",\"Jul-20\",\"Aug-20\",\"Sep-20\",\"Oct-20\",\"Nov-20\"],\"y\":[14.0,14.88,14.87,14.47,13.88,14.44,17.16,16.97,20.95,20.8,21.8,18.4,17.2,18.6,18.88,24.2,28.47,29.66,34.16,32.6,31.58,31.99,36.14,36.38,41.04,39.0,41.75,47.3,50.98,54.0,55.56,53.97,48.9,35.8,36.88,32.22,30.5,28.98,29.8,25.0,17.8,16.56,18.34,12.5,11.24,17.51,28.84,31.08,33.16,35.18,41.3,52.34,54.98,55.67,57.58,51.48,52.06,59.48,58.08,59.9,60.94,68.88,71.74,76.0,77.6,68.36,63.54,57.69,65.2,68.26,61.68,63.39,68.0,63.96,60.08,64.8,63.7,59.8,66.5,74.8,77.88,76.1,70.59,70.6,73.19,74.78,77.69,84.2,89.6,95.0,107.0,107.8,100.15,101.8,109.43,102.94,100.4,67.81,78.94,76.44,77.27,83.0,76.35,62.7,83.36,94.98,117.6,117.57,114.46,118.69,126.85,137.8,143.91,155.0,179.0,173.88,182.0,172.8,176.96,179.4,175.58,169.19,155.5,155.94,157.96,154.52,149.9,157.85,175.12,190.44,209.0,223.0,247.18,275.0,290.0,265.5,262.72,245.0,284.31,294.19,311.57,330.58,330.3,306.34,372.0,368.52,383.25,375.75,329.8,319.0,366.0,366.5,325.8,368.75,364.4,350.1,393.35,404.0,350.0,268.45,231.4,194.3,236.3,236.9,281.3,285.9,178.05,153.8,110.6,92.4,72.55,76.65,75.35,70.5,48.5,40.7,87.95,30.45,31.6,31.95,28.3,17.16,15.34,14.01,14.9],\"type\":\"scatter\"},{\"line\":{\"color\":\"orange\"},\"marker\":{\"color\":\"chartreuse\",\"size\":10},\"name\":\"Low\",\"x\":[\"Jul-05\",\"Aug-05\",\"Sep-05\",\"Oct-05\",\"Nov-05\",\"Dec-05\",\"Jan-06\",\"Feb-06\",\"Mar-06\",\"Apr-06\",\"May-06\",\"Jun-06\",\"Jul-06\",\"Aug-06\",\"Sep-06\",\"Oct-06\",\"Nov-06\",\"Dec-06\",\"Jan-07\",\"Feb-07\",\"Mar-07\",\"Apr-07\",\"May-07\",\"Jun-07\",\"Jul-07\",\"Aug-07\",\"Sep-07\",\"Oct-07\",\"Nov-07\",\"Dec-07\",\"Jan-08\",\"Feb-08\",\"Mar-08\",\"Apr-08\",\"May-08\",\"Jun-08\",\"Jul-08\",\"Aug-08\",\"Sep-08\",\"Oct-08\",\"Nov-08\",\"Dec-08\",\"Jan-09\",\"Feb-09\",\"Mar-09\",\"Apr-09\",\"May-09\",\"Jun-09\",\"Jul-09\",\"Aug-09\",\"Sep-09\",\"Oct-09\",\"Nov-09\",\"Dec-09\",\"Jan-10\",\"Feb-10\",\"Mar-10\",\"Apr-10\",\"May-10\",\"Jun-10\",\"Jul-10\",\"Aug-10\",\"Sep-10\",\"Oct-10\",\"Nov-10\",\"Dec-10\",\"Jan-11\",\"Feb-11\",\"Mar-11\",\"Apr-11\",\"May-11\",\"Jun-11\",\"Jul-11\",\"Aug-11\",\"Sep-11\",\"Oct-11\",\"Nov-11\",\"Dec-11\",\"Jan-12\",\"Feb-12\",\"Mar-12\",\"Apr-12\",\"May-12\",\"Jun-12\",\"Jul-12\",\"Aug-12\",\"Sep-12\",\"Oct-12\",\"Nov-12\",\"Dec-12\",\"Jan-13\",\"Feb-13\",\"Mar-13\",\"Apr-13\",\"May-13\",\"Jun-13\",\"Jul-13\",\"Aug-13\",\"Sep-13\",\"Oct-13\",\"Nov-13\",\"Dec-13\",\"Jan-14\",\"Feb-14\",\"Mar-14\",\"Apr-14\",\"May-14\",\"Jun-14\",\"Jul-14\",\"Aug-14\",\"Sep-14\",\"Oct-14\",\"Nov-14\",\"Dec-14\",\"Jan-15\",\"Feb-15\",\"Mar-15\",\"Apr-15\",\"May-15\",\"Jun-15\",\"Jul-15\",\"Aug-15\",\"Sep-15\",\"Oct-15\",\"Nov-15\",\"Dec-15\",\"Jan-16\",\"Feb-16\",\"Mar-16\",\"Apr-16\",\"May-16\",\"Jun-16\",\"Jul-16\",\"Aug-16\",\"Sep-16\",\"Oct-16\",\"Nov-16\",\"Dec-16\",\"Jan-17\",\"Feb-17\",\"Mar-17\",\"Apr-17\",\"May-17\",\"Jun-17\",\"Jul-17\",\"Aug-17\",\"Sep-17\",\"Oct-17\",\"Nov-17\",\"Dec-17\",\"Jan-18\",\"Feb-18\",\"Mar-18\",\"Apr-18\",\"May-18\",\"Jun-18\",\"Jul-18\",\"Aug-18\",\"Sep-18\",\"Oct-18\",\"Nov-18\",\"Dec-18\",\"Jan-19\",\"Feb-19\",\"Mar-19\",\"Apr-19\",\"May-19\",\"Jun-19\",\"Jul-19\",\"Aug-19\",\"Sep-19\",\"Oct-19\",\"Nov-19\",\"Dec-19\",\"Jan-20\",\"Feb-20\",\"Mar-20\",\"Apr-20\",\"May-20\",\"Jun-20\",\"Jul-20\",\"Aug-20\",\"Sep-20\",\"Oct-20\",\"Nov-20\"],\"y\":[11.25,12.55,12.27,12.4,12.88,13.0,13.58,15.4,16.02,18.02,15.8,13.4,13.82,15.7,16.8,18.5,21.4,24.4,27.0,26.8,23.31,26.2,29.11,30.4,35.02,30.2,35.3,33.6,40.02,45.0,30.24,44.4,24.11,28.51,30.03,22.62,20.4,24.62,21.7,11.01,11.25,11.13,11.48,9.9,8.16,9.94,14.76,23.0,24.83,29.0,32.0,36.8,42.84,48.6,46.42,44.6,47.3,48.8,50.66,52.6,53.02,59.01,62.51,68.21,58.0,55.44,49.39,46.71,50.8,60.5,54.5,54.8,61.36,50.51,51.2,48.1,52.04,47.4,46.11,63.6,66.2,69.11,58.85,62.14,67.57,65.27,64.46,75.6,82.22,88.01,93.2,93.4,83.42,83.43,97.2,87.15,57.71,43.22,44.8,56.08,64.65,71.63,60.8,58.42,60.34,80.8,86.98,101.62,100.44,103.31,107.18,109.2,132.44,134.0,150.47,156.1,156.8,154.53,157.8,158.9,156.45,118.0,127.0,141.73,144.03,133.71,126.45,132.74,138.35,165.33,181.28,201.14,221.35,240.68,231.2,245.8,219.1,218.25,226.3,275.61,283.6,300.2,275.15,280.21,290.78,337.37,345.5,299.0,296.0,300.65,307.35,304.65,285.1,303.3,325.7,327.35,332.45,338.0,166.15,168.6,147.0,160.2,181.15,167.65,228.8,165.3,133.05,98.75,81.75,53.15,40.95,29.05,59.95,40.7,36.55,33.6,5.55,20.3,25.2,25.55,11.1,11.85,12.75,12.11,12.21],\"type\":\"scatter\"}],                        {\"template\":{\"data\":{\"histogram2dcontour\":[{\"type\":\"histogram2dcontour\",\"colorbar\":{\"outlinewidth\":0,\"ticks\":\"\"},\"colorscale\":[[0.0,\"#0d0887\"],[0.1111111111111111,\"#46039f\"],[0.2222222222222222,\"#7201a8\"],[0.3333333333333333,\"#9c179e\"],[0.4444444444444444,\"#bd3786\"],[0.5555555555555556,\"#d8576b\"],[0.6666666666666666,\"#ed7953\"],[0.7777777777777778,\"#fb9f3a\"],[0.8888888888888888,\"#fdca26\"],[1.0,\"#f0f921\"]]}],\"choropleth\":[{\"type\":\"choropleth\",\"colorbar\":{\"outlinewidth\":0,\"ticks\":\"\"}}],\"histogram2d\":[{\"type\":\"histogram2d\",\"colorbar\":{\"outlinewidth\":0,\"ticks\":\"\"},\"colorscale\":[[0.0,\"#0d0887\"],[0.1111111111111111,\"#46039f\"],[0.2222222222222222,\"#7201a8\"],[0.3333333333333333,\"#9c179e\"],[0.4444444444444444,\"#bd3786\"],[0.5555555555555556,\"#d8576b\"],[0.6666666666666666,\"#ed7953\"],[0.7777777777777778,\"#fb9f3a\"],[0.8888888888888888,\"#fdca26\"],[1.0,\"#f0f921\"]]}],\"heatmap\":[{\"type\":\"heatmap\",\"colorbar\":{\"outlinewidth\":0,\"ticks\":\"\"},\"colorscale\":[[0.0,\"#0d0887\"],[0.1111111111111111,\"#46039f\"],[0.2222222222222222,\"#7201a8\"],[0.3333333333333333,\"#9c179e\"],[0.4444444444444444,\"#bd3786\"],[0.5555555555555556,\"#d8576b\"],[0.6666666666666666,\"#ed7953\"],[0.7777777777777778,\"#fb9f3a\"],[0.8888888888888888,\"#fdca26\"],[1.0,\"#f0f921\"]]}],\"heatmapgl\":[{\"type\":\"heatmapgl\",\"colorbar\":{\"outlinewidth\":0,\"ticks\":\"\"},\"colorscale\":[[0.0,\"#0d0887\"],[0.1111111111111111,\"#46039f\"],[0.2222222222222222,\"#7201a8\"],[0.3333333333333333,\"#9c179e\"],[0.4444444444444444,\"#bd3786\"],[0.5555555555555556,\"#d8576b\"],[0.6666666666666666,\"#ed7953\"],[0.7777777777777778,\"#fb9f3a\"],[0.8888888888888888,\"#fdca26\"],[1.0,\"#f0f921\"]]}],\"contourcarpet\":[{\"type\":\"contourcarpet\",\"colorbar\":{\"outlinewidth\":0,\"ticks\":\"\"}}],\"contour\":[{\"type\":\"contour\",\"colorbar\":{\"outlinewidth\":0,\"ticks\":\"\"},\"colorscale\":[[0.0,\"#0d0887\"],[0.1111111111111111,\"#46039f\"],[0.2222222222222222,\"#7201a8\"],[0.3333333333333333,\"#9c179e\"],[0.4444444444444444,\"#bd3786\"],[0.5555555555555556,\"#d8576b\"],[0.6666666666666666,\"#ed7953\"],[0.7777777777777778,\"#fb9f3a\"],[0.8888888888888888,\"#fdca26\"],[1.0,\"#f0f921\"]]}],\"surface\":[{\"type\":\"surface\",\"colorbar\":{\"outlinewidth\":0,\"ticks\":\"\"},\"colorscale\":[[0.0,\"#0d0887\"],[0.1111111111111111,\"#46039f\"],[0.2222222222222222,\"#7201a8\"],[0.3333333333333333,\"#9c179e\"],[0.4444444444444444,\"#bd3786\"],[0.5555555555555556,\"#d8576b\"],[0.6666666666666666,\"#ed7953\"],[0.7777777777777778,\"#fb9f3a\"],[0.8888888888888888,\"#fdca26\"],[1.0,\"#f0f921\"]]}],\"mesh3d\":[{\"type\":\"mesh3d\",\"colorbar\":{\"outlinewidth\":0,\"ticks\":\"\"}}],\"scatter\":[{\"fillpattern\":{\"fillmode\":\"overlay\",\"size\":10,\"solidity\":0.2},\"type\":\"scatter\"}],\"parcoords\":[{\"type\":\"parcoords\",\"line\":{\"colorbar\":{\"outlinewidth\":0,\"ticks\":\"\"}}}],\"scatterpolargl\":[{\"type\":\"scatterpolargl\",\"marker\":{\"colorbar\":{\"outlinewidth\":0,\"ticks\":\"\"}}}],\"bar\":[{\"error_x\":{\"color\":\"#2a3f5f\"},\"error_y\":{\"color\":\"#2a3f5f\"},\"marker\":{\"line\":{\"color\":\"#E5ECF6\",\"width\":0.5},\"pattern\":{\"fillmode\":\"overlay\",\"size\":10,\"solidity\":0.2}},\"type\":\"bar\"}],\"scattergeo\":[{\"type\":\"scattergeo\",\"marker\":{\"colorbar\":{\"outlinewidth\":0,\"ticks\":\"\"}}}],\"scatterpolar\":[{\"type\":\"scatterpolar\",\"marker\":{\"colorbar\":{\"outlinewidth\":0,\"ticks\":\"\"}}}],\"histogram\":[{\"marker\":{\"pattern\":{\"fillmode\":\"overlay\",\"size\":10,\"solidity\":0.2}},\"type\":\"histogram\"}],\"scattergl\":[{\"type\":\"scattergl\",\"marker\":{\"colorbar\":{\"outlinewidth\":0,\"ticks\":\"\"}}}],\"scatter3d\":[{\"type\":\"scatter3d\",\"line\":{\"colorbar\":{\"outlinewidth\":0,\"ticks\":\"\"}},\"marker\":{\"colorbar\":{\"outlinewidth\":0,\"ticks\":\"\"}}}],\"scattermapbox\":[{\"type\":\"scattermapbox\",\"marker\":{\"colorbar\":{\"outlinewidth\":0,\"ticks\":\"\"}}}],\"scatterternary\":[{\"type\":\"scatterternary\",\"marker\":{\"colorbar\":{\"outlinewidth\":0,\"ticks\":\"\"}}}],\"scattercarpet\":[{\"type\":\"scattercarpet\",\"marker\":{\"colorbar\":{\"outlinewidth\":0,\"ticks\":\"\"}}}],\"carpet\":[{\"aaxis\":{\"endlinecolor\":\"#2a3f5f\",\"gridcolor\":\"white\",\"linecolor\":\"white\",\"minorgridcolor\":\"white\",\"startlinecolor\":\"#2a3f5f\"},\"baxis\":{\"endlinecolor\":\"#2a3f5f\",\"gridcolor\":\"white\",\"linecolor\":\"white\",\"minorgridcolor\":\"white\",\"startlinecolor\":\"#2a3f5f\"},\"type\":\"carpet\"}],\"table\":[{\"cells\":{\"fill\":{\"color\":\"#EBF0F8\"},\"line\":{\"color\":\"white\"}},\"header\":{\"fill\":{\"color\":\"#C8D4E3\"},\"line\":{\"color\":\"white\"}},\"type\":\"table\"}],\"barpolar\":[{\"marker\":{\"line\":{\"color\":\"#E5ECF6\",\"width\":0.5},\"pattern\":{\"fillmode\":\"overlay\",\"size\":10,\"solidity\":0.2}},\"type\":\"barpolar\"}],\"pie\":[{\"automargin\":true,\"type\":\"pie\"}]},\"layout\":{\"autotypenumbers\":\"strict\",\"colorway\":[\"#636efa\",\"#EF553B\",\"#00cc96\",\"#ab63fa\",\"#FFA15A\",\"#19d3f3\",\"#FF6692\",\"#B6E880\",\"#FF97FF\",\"#FECB52\"],\"font\":{\"color\":\"#2a3f5f\"},\"hovermode\":\"closest\",\"hoverlabel\":{\"align\":\"left\"},\"paper_bgcolor\":\"white\",\"plot_bgcolor\":\"#E5ECF6\",\"polar\":{\"bgcolor\":\"#E5ECF6\",\"angularaxis\":{\"gridcolor\":\"white\",\"linecolor\":\"white\",\"ticks\":\"\"},\"radialaxis\":{\"gridcolor\":\"white\",\"linecolor\":\"white\",\"ticks\":\"\"}},\"ternary\":{\"bgcolor\":\"#E5ECF6\",\"aaxis\":{\"gridcolor\":\"white\",\"linecolor\":\"white\",\"ticks\":\"\"},\"baxis\":{\"gridcolor\":\"white\",\"linecolor\":\"white\",\"ticks\":\"\"},\"caxis\":{\"gridcolor\":\"white\",\"linecolor\":\"white\",\"ticks\":\"\"}},\"coloraxis\":{\"colorbar\":{\"outlinewidth\":0,\"ticks\":\"\"}},\"colorscale\":{\"sequential\":[[0.0,\"#0d0887\"],[0.1111111111111111,\"#46039f\"],[0.2222222222222222,\"#7201a8\"],[0.3333333333333333,\"#9c179e\"],[0.4444444444444444,\"#bd3786\"],[0.5555555555555556,\"#d8576b\"],[0.6666666666666666,\"#ed7953\"],[0.7777777777777778,\"#fb9f3a\"],[0.8888888888888888,\"#fdca26\"],[1.0,\"#f0f921\"]],\"sequentialminus\":[[0.0,\"#0d0887\"],[0.1111111111111111,\"#46039f\"],[0.2222222222222222,\"#7201a8\"],[0.3333333333333333,\"#9c179e\"],[0.4444444444444444,\"#bd3786\"],[0.5555555555555556,\"#d8576b\"],[0.6666666666666666,\"#ed7953\"],[0.7777777777777778,\"#fb9f3a\"],[0.8888888888888888,\"#fdca26\"],[1.0,\"#f0f921\"]],\"diverging\":[[0,\"#8e0152\"],[0.1,\"#c51b7d\"],[0.2,\"#de77ae\"],[0.3,\"#f1b6da\"],[0.4,\"#fde0ef\"],[0.5,\"#f7f7f7\"],[0.6,\"#e6f5d0\"],[0.7,\"#b8e186\"],[0.8,\"#7fbc41\"],[0.9,\"#4d9221\"],[1,\"#276419\"]]},\"xaxis\":{\"gridcolor\":\"white\",\"linecolor\":\"white\",\"ticks\":\"\",\"title\":{\"standoff\":15},\"zerolinecolor\":\"white\",\"automargin\":true,\"zerolinewidth\":2},\"yaxis\":{\"gridcolor\":\"white\",\"linecolor\":\"white\",\"ticks\":\"\",\"title\":{\"standoff\":15},\"zerolinecolor\":\"white\",\"automargin\":true,\"zerolinewidth\":2},\"scene\":{\"xaxis\":{\"backgroundcolor\":\"#E5ECF6\",\"gridcolor\":\"white\",\"linecolor\":\"white\",\"showbackground\":true,\"ticks\":\"\",\"zerolinecolor\":\"white\",\"gridwidth\":2},\"yaxis\":{\"backgroundcolor\":\"#E5ECF6\",\"gridcolor\":\"white\",\"linecolor\":\"white\",\"showbackground\":true,\"ticks\":\"\",\"zerolinecolor\":\"white\",\"gridwidth\":2},\"zaxis\":{\"backgroundcolor\":\"#E5ECF6\",\"gridcolor\":\"white\",\"linecolor\":\"white\",\"showbackground\":true,\"ticks\":\"\",\"zerolinecolor\":\"white\",\"gridwidth\":2}},\"shapedefaults\":{\"line\":{\"color\":\"#2a3f5f\"}},\"annotationdefaults\":{\"arrowcolor\":\"#2a3f5f\",\"arrowhead\":0,\"arrowwidth\":1},\"geo\":{\"bgcolor\":\"white\",\"landcolor\":\"#E5ECF6\",\"subunitcolor\":\"white\",\"showland\":true,\"showlakes\":true,\"lakecolor\":\"white\"},\"title\":{\"x\":0.05},\"mapbox\":{\"style\":\"light\"}}},\"xaxis\":{\"anchor\":\"y\",\"domain\":[0.0,1.0],\"title\":{\"text\":\"Year\"},\"tickangle\":90},\"yaxis\":{\"anchor\":\"x\",\"domain\":[0.0,1.0],\"title\":{\"text\":\"Price\"}},\"legend\":{\"tracegroupgap\":0,\"font\":{\"color\":\"white\"},\"x\":0.02,\"y\":0.98,\"bgcolor\":\"rgba(255, 255, 255, 0.7)\",\"bordercolor\":\"gray\",\"borderwidth\":1},\"margin\":{\"t\":100,\"l\":50,\"r\":50,\"b\":50},\"title\":{\"font\":{\"color\":\"white\"},\"text\":\"Yes Bank Prices with Respect to Year\",\"x\":0.5,\"y\":0.95,\"xanchor\":\"center\",\"yanchor\":\"top\"},\"font\":{\"color\":\"white\"},\"width\":1400,\"height\":800,\"plot_bgcolor\":\"rgb(36, 40, 47)\",\"paper_bgcolor\":\"rgb(51, 56, 66)\"},                        {\"responsive\": true}                    ).then(function(){\n",
              "                            \n",
              "var gd = document.getElementById('db0c5856-0613-47d4-a298-e95aefcae42e');\n",
              "var x = new MutationObserver(function (mutations, observer) {{\n",
              "        var display = window.getComputedStyle(gd).display;\n",
              "        if (!display || display === 'none') {{\n",
              "            console.log([gd, 'removed!']);\n",
              "            Plotly.purge(gd);\n",
              "            observer.disconnect();\n",
              "        }}\n",
              "}});\n",
              "\n",
              "// Listen for the removal of the full notebook cells\n",
              "var notebookContainer = gd.closest('#notebook-container');\n",
              "if (notebookContainer) {{\n",
              "    x.observe(notebookContainer, {childList: true});\n",
              "}}\n",
              "\n",
              "// Listen for the clearing of the current output cell\n",
              "var outputEl = gd.closest('.output');\n",
              "if (outputEl) {{\n",
              "    x.observe(outputEl, {childList: true});\n",
              "}}\n",
              "\n",
              "                        })                };                            </script>        </div>\n",
              "</body>\n",
              "</html>"
            ]
          },
          "metadata": {}
        }
      ]
    },
    {
      "cell_type": "markdown",
      "source": [
        "#### `1. Why did you pick the specific chart?`"
      ],
      "metadata": {
        "id": "EpcacyQrtBuN"
      }
    },
    {
      "cell_type": "markdown",
      "source": [
        "The specific chart chosen for this analysis is a combination of line and scatter plots. This chart type is suitable for visualizing the individual changes in Open, High, Low, and Close prices of the Yes Bank stock over time. By utilizing line plots, we can observe the overall trends and patterns, while scatter plots allow us to identify specific data points. The chart effectively presents the data by distinguishing each price variable with unique line colors and marker styles. The layout of the plot is optimized to include a centered title, clear axis labels, and an appropriate size. Additionally, the choice of color scheme and background enhances visual appeal and readability. Overall, this chart enables a comprehensive analysis of the Yes Bank stock prices, aiding in the identification of trends, patterns, and potential insights for informed decision-making."
      ],
      "metadata": {
        "id": "r0tNKWrBtCXU"
      }
    },
    {
      "cell_type": "markdown",
      "source": [
        "#### `2. What is/are the insight(s) found from the chart?`"
      ],
      "metadata": {
        "id": "aAOvK3shtFms"
      }
    },
    {
      "cell_type": "markdown",
      "source": [
        "Indeed, the expected dip in the price variables after 2018 is prominently visible in the chart. The line graph shows a notable decrease in the Open, High, Low, and Close prices of the Yes Bank stock following the specified timeframe. This decline can be attributed to various factors, such as the impact of the Yes Bank fraud case involving Rana Kapoor, which adversely affected investor sentiment and confidence in the bank. The scatter plots further accentuate the dip, as they highlight individual data points that deviate significantly from the preceding upward trend. By visually representing the price variables over time, the chart effectively showcases the substantial decrease in prices after 2018, emphasizing the challenging period faced by Yes Bank and the subsequent decline in its stock value."
      ],
      "metadata": {
        "id": "hx6K1QkktLWc"
      }
    },
    {
      "cell_type": "markdown",
      "source": [
        "#### `3. Will the gained insights help creating a positive business impact?"
      ],
      "metadata": {
        "id": "cOUfjZxntPiM"
      }
    },
    {
      "cell_type": "markdown",
      "source": [
        "The gained insights can potentially help create a positive business impact by providing valuable information for decision-making and strategic planning. By analyzing the Yes Bank stock price data and observing the significant dip after 2018, businesses and investors can adjust their strategies accordingly. These insights can guide them in making informed decisions about investing in Yes Bank or adjusting their existing holdings. Additionally, the insights can alert businesses to the need for diligent risk management practices and thorough due diligence when evaluating financial institutions.\n",
        "\n",
        "Regarding insights leading to negative growth, the significant dip in the Yes Bank stock prices after 2018 can be seen as a negative growth trend. The decline in stock prices can be attributed to various factors, including the Yes Bank fraud case involving Rana Kapoor. This event had a detrimental impact on investor sentiment and eroded trust in the bank, resulting in a decrease in its stock value. The negative growth observed in this scenario highlights the importance of maintaining ethical practices, strong corporate governance, and transparency within financial institutions. It also underscores the potential consequences of fraud and misconduct on the overall growth and stability of a business."
      ],
      "metadata": {
        "id": "uvPcaT7CtQmF"
      }
    },
    {
      "cell_type": "code",
      "source": [],
      "metadata": {
        "id": "vO1aGLLds7vM"
      },
      "execution_count": null,
      "outputs": []
    }
  ]
}